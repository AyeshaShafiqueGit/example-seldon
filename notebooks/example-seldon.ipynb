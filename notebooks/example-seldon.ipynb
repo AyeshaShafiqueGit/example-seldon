{
 "cells": [
  {
   "cell_type": "markdown",
   "metadata": {},
   "source": [
    "# End-To-End Train and Deploy Machine Learning Model on Kubernetes\n",
    "\n",
    "Using:\n",
    "\n",
    " * kubeflow\n",
    " * seldon-core\n",
    " \n",
    " \n",
    "Follow the main README to setup, train and deploy your model. This notebook will show how to run the Argo jobs and example prediction calls to the deployed models.\n",
    "\n",
    "**To run this notebook you will need to install Tensorflow**\n",
    " \n",
    "The example will be the MNIST handwriiten digit classification task.\n",
    "\n",
    "![MNIST](mnist.png \"MNIST Digits\")"
   ]
  },
  {
   "cell_type": "markdown",
   "metadata": {},
   "source": [
    "## 5. Data Science\n",
    "You will need Tensorflow installed to run this section."
   ]
  },
  {
   "cell_type": "code",
   "execution_count": 37,
   "metadata": {
    "collapsed": true
   },
   "outputs": [],
   "source": [
    "%matplotlib inline\n",
    "from matplotlib import pyplot as plt\n",
    "import numpy as np\n",
    "def gen_image(arr):\n",
    "    two_d = (np.reshape(arr, (28, 28)) * 255).astype(np.uint8)\n",
    "    plt.imshow(two_d,cmap=plt.cm.gray_r, interpolation='nearest')\n",
    "    return plt"
   ]
  },
  {
   "cell_type": "code",
   "execution_count": 38,
   "metadata": {
    "collapsed": false
   },
   "outputs": [
    {
     "name": "stdout",
     "output_type": "stream",
     "text": [
      "Extracting MNIST_data/train-images-idx3-ubyte.gz\n",
      "Extracting MNIST_data/train-labels-idx1-ubyte.gz\n",
      "Extracting MNIST_data/t10k-images-idx3-ubyte.gz\n",
      "Extracting MNIST_data/t10k-labels-idx1-ubyte.gz\n"
     ]
    },
    {
     "data": {
      "image/png": "[encoded data removed]",
      "text/plain": [
       "<matplotlib.figure.Figure at 0x7f01a24ac590>"
      ]
     },
     "metadata": {},
     "output_type": "display_data"
    }
   ],
   "source": [
    "from tensorflow.examples.tutorials.mnist import input_data\n",
    "mnist = input_data.read_data_sets(\"MNIST_data/\", one_hot = True)\n",
    "batch_xs, batch_ys = mnist.train.next_batch(10)\n",
    "gen_image(batch_xs[1]).show()"
   ]
  },
  {
   "cell_type": "code",
   "execution_count": 39,
   "metadata": {
    "collapsed": false
   },
   "outputs": [
    {
     "name": "stdout",
     "output_type": "stream",
     "text": [
      "Extracting MNIST_data/train-images-idx3-ubyte.gz\n",
      "Extracting MNIST_data/train-labels-idx1-ubyte.gz\n",
      "Extracting MNIST_data/t10k-images-idx3-ubyte.gz\n",
      "Extracting MNIST_data/t10k-labels-idx1-ubyte.gz\n",
      "WARNING:tensorflow:From <ipython-input-39-f38933426b72>:13: initialize_all_variables (from tensorflow.python.ops.variables) is deprecated and will be removed after 2017-03-02.\n",
      "Instructions for updating:\n",
      "Use `tf.global_variables_initializer` instead.\n",
      "0.9168\n"
     ]
    }
   ],
   "source": [
    "from tensorflow.examples.tutorials.mnist import input_data\n",
    "mnist = input_data.read_data_sets(\"MNIST_data/\", one_hot = True)\n",
    "import tensorflow as tf\n",
    "\n",
    "x = tf.placeholder(tf.float32, [None,784], name=\"x\")\n",
    "W = tf.Variable(tf.zeros([784,10]))\n",
    "b = tf.Variable(tf.zeros([10]))\n",
    "y = tf.nn.softmax(tf.matmul(x,W) + b, name=\"y\")\n",
    "y_ = tf.placeholder(tf.float32, [None, 10])\n",
    "\n",
    "cross_entropy = tf.reduce_mean(-tf.reduce_sum(y_ * tf.log(y), reduction_indices=[1]))\n",
    "train_step = tf.train.GradientDescentOptimizer(0.5).minimize(cross_entropy)\n",
    "init = tf.initialize_all_variables()\n",
    "sess = tf.Session()\n",
    "sess.run(init)\n",
    "\n",
    "for i in range(1000):\n",
    "    batch_xs, batch_ys = mnist.train.next_batch(100)\n",
    "    sess.run(train_step, feed_dict={x: batch_xs, y_: batch_ys})\n",
    "\n",
    "correct_prediction = tf.equal(tf.argmax(y,1), tf.argmax(y_,1))\n",
    "accuracy = tf.reduce_mean(tf.cast(correct_prediction, tf.float32))\n",
    "print(sess.run(accuracy, feed_dict = {x: mnist.test.images, y_:mnist.test.labels}))\n",
    "\n"
   ]
  },
  {
   "cell_type": "markdown",
   "metadata": {},
   "source": [
    "# Dockerize and Train Model\n",
    "You can skip this if you have done this already following the README."
   ]
  },
  {
   "cell_type": "code",
   "execution_count": 25,
   "metadata": {
    "collapsed": false
   },
   "outputs": [
    {
     "name": "stdout",
     "output_type": "stream",
     "text": [
      "Name:             kubeflow-train-2x2pq\r\n",
      "Namespace:        default\r\n",
      "ServiceAccount:   default\r\n",
      "Status:           Pending\r\n",
      "Created:          Fri Feb 09 15:37:30 +0000 (1 second ago)\r\n",
      "Parameters:       \r\n",
      "  version:        0.1\r\n",
      "  github-user:    SeldonIO\r\n",
      "  docker-user:    seldonio\r\n",
      "  tfjob-version-hack: 1\r\n"
     ]
    }
   ],
   "source": [
    "!argo submit ../workflows/training-tf-mnist-workflow.yaml"
   ]
  },
  {
   "cell_type": "markdown",
   "metadata": {},
   "source": [
    "Wait until the Argo job is completed"
   ]
  },
  {
   "cell_type": "code",
   "execution_count": 26,
   "metadata": {
    "collapsed": false
   },
   "outputs": [
    {
     "name": "stdout",
     "output_type": "stream",
     "text": [
      "NAME                   STATUS    AGE    DURATION\r\n",
      "kubeflow-train-2x2pq   Running   15s    15s \r\n"
     ]
    }
   ],
   "source": [
    "!argo list"
   ]
  },
  {
   "cell_type": "markdown",
   "metadata": {},
   "source": [
    "You can get more info on your job by using Argo get, but you will need to change the job id"
   ]
  },
  {
   "cell_type": "code",
   "execution_count": 30,
   "metadata": {
    "collapsed": false
   },
   "outputs": [
    {
     "name": "stdout",
     "output_type": "stream",
     "text": [
      "Name:             kubeflow-train-2x2pq\r\n",
      "Namespace:        default\r\n",
      "ServiceAccount:   default\r\n",
      "Status:           Succeeded\r\n",
      "Created:          Fri Feb 09 15:37:30 +0000 (3 minutes ago)\r\n",
      "Started:          Fri Feb 09 15:37:30 +0000 (3 minutes ago)\r\n",
      "Finished:         Fri Feb 09 15:40:54 +0000 (23 seconds ago)\r\n",
      "Duration:         3 minutes 24 seconds\r\n",
      "Parameters:       \r\n",
      "  version:        0.1\r\n",
      "  github-user:    SeldonIO\r\n",
      "  docker-user:    seldonio\r\n",
      "  tfjob-version-hack: 1\r\n",
      "\r\n",
      "\u001b[39mSTEP\u001b[0m                     PODNAME                          DURATION  MESSAGE\r\n",
      " \u001b[32m✔\u001b[0m kubeflow-train-2x2pq                                             \r\n",
      " ├---\u001b[32m✔\u001b[0m build-push        kubeflow-train-2x2pq-4048894882  1m        \r\n",
      " └---\u001b[32m✔\u001b[0m train             kubeflow-train-2x2pq-1479042668  1m        \r\n"
     ]
    }
   ],
   "source": [
    "!argo get kubeflow-train-2x2pq"
   ]
  },
  {
   "cell_type": "markdown",
   "metadata": {},
   "source": [
    "Delete argo job to free persistent disk usage."
   ]
  },
  {
   "cell_type": "code",
   "execution_count": null,
   "metadata": {
    "collapsed": true
   },
   "outputs": [],
   "source": [
    "!argo delete --all"
   ]
  },
  {
   "cell_type": "markdown",
   "metadata": {},
   "source": [
    "# Dockerize and Deploy Runtime Model\n",
    "You can skip this if you have followed the README and the deployment is already running."
   ]
  },
  {
   "cell_type": "code",
   "execution_count": 32,
   "metadata": {
    "collapsed": false
   },
   "outputs": [
    {
     "name": "stdout",
     "output_type": "stream",
     "text": [
      "Name:             seldon-package-db5m7\r\n",
      "Namespace:        default\r\n",
      "ServiceAccount:   default\r\n",
      "Status:           Pending\r\n",
      "Created:          Fri Feb 09 15:42:12 +0000 (now)\r\n",
      "Parameters:       \r\n",
      "  version:        0.1\r\n"
     ]
    }
   ],
   "source": [
    "!argo submit ../workflows/serving-tf-mnist-workflow.yaml"
   ]
  },
  {
   "cell_type": "markdown",
   "metadata": {},
   "source": [
    "Wait untl Argo job is finished."
   ]
  },
  {
   "cell_type": "code",
   "execution_count": 34,
   "metadata": {
    "collapsed": false
   },
   "outputs": [
    {
     "name": "stdout",
     "output_type": "stream",
     "text": [
      "NAME                   STATUS      AGE   DURATION\r\n",
      "seldon-package-db5m7   Running     1m    1m \r\n",
      "kubeflow-train-2x2pq   Succeeded   5m    3m \r\n"
     ]
    }
   ],
   "source": [
    "!argo list"
   ]
  },
  {
   "cell_type": "markdown",
   "metadata": {},
   "source": [
    "## Get predictions\n",
    "**Ensure you have port forwarded the ambassador reverse proxy**\n",
    "\n",
    "```bash\n",
    "kubectl port-forward $(kubectl get pods -n default -l service=ambassador -o jsonpath='{.items[0].metadata.name}') -n default 8002:80\n",
    "```"
   ]
  },
  {
   "cell_type": "markdown",
   "metadata": {},
   "source": [
    "If you need to deploy the model again you can directly use the kubernetes manifest for it"
   ]
  },
  {
   "cell_type": "code",
   "execution_count": 35,
   "metadata": {
    "collapsed": false
   },
   "outputs": [
    {
     "name": "stdout",
     "output_type": "stream",
     "text": [
      "seldondeployment \"mnist-classifier\" configured\r\n"
     ]
    }
   ],
   "source": [
    "!kubectl apply -f ../k8s_serving/serving_model.json"
   ]
  },
  {
   "cell_type": "code",
   "execution_count": 27,
   "metadata": {
    "collapsed": true
   },
   "outputs": [],
   "source": [
    "import requests\n",
    "from requests.auth import HTTPBasicAuth\n",
    "import commands\n",
    "from random import randint,random\n",
    "from proto import prediction_pb2\n",
    "from proto import prediction_pb2_grpc\n",
    "import grpc\n",
    "import json\n",
    "from visualizer import get_graph\n",
    "\n",
    "#AMBASSADOR_API_IP=commands.getoutput(\"kubectl get svc ambassador -o jsonpath='{.status.loadBalancer.ingress[0].ip}'\")\n",
    "AMBASSADOR_API_IP=\"localhost:8002\"\n",
    "\n",
    "def rest_request(deploymentName,request):\n",
    "    response = requests.post(\n",
    "                \"http://\"+AMBASSADOR_API_IP+\"/seldon/\"+deploymentName+\"/api/v0.1/predictions\",\n",
    "                json=request)\n",
    "    return response.json()   \n",
    "    \n",
    "def rest_request_auth(deploymentName,data,username,password):\n",
    "    payload = {\"data\":{\"ndarray\":data.tolist()}}\n",
    "    response = requests.post(\n",
    "                \"http://\"+AMBASSADOR_API_IP+\"/seldon/\"+deploymentName+\"/api/v0.1/predictions\",\n",
    "                json=payload,\n",
    "                auth=HTTPBasicAuth(username, password))\n",
    "    print response.status_code\n",
    "    return response.json()   \n",
    "\n",
    "def grpc_request(deploymentName,data):\n",
    "    datadef = prediction_pb2.DefaultData(\n",
    "            names = [\"a\",\"b\"],\n",
    "            tensor = prediction_pb2.Tensor(\n",
    "                shape = [1,784],\n",
    "                values = data\n",
    "                )\n",
    "            )\n",
    "    request = prediction_pb2.SeldonMessage(data = datadef)\n",
    "    channel = grpc.insecure_channel(AMBASSADOR_API_IP)\n",
    "    stub = prediction_pb2_grpc.SeldonStub(channel)\n",
    "    metadata = [('seldon',deploymentName)]\n",
    "    response = stub.Predict(request=request,metadata=metadata)\n",
    "    print response\n",
    "\n",
    "def send_feedback_rest(deploymentName,request,response,reward):\n",
    "    feedback = {\n",
    "        \"request\": request,\n",
    "        \"response\": response,\n",
    "        \"reward\": reward\n",
    "    }\n",
    "    ret = requests.post(\n",
    "         \"http://\"+AMBASSADOR_API_IP+\"/seldon/\"+deploymentName+\"/api/v0.1/feedback\",\n",
    "        json=feedback)\n",
    "    return ret.text\n"
   ]
  },
  {
   "cell_type": "markdown",
   "metadata": {},
   "source": [
    "#### REST Request"
   ]
  },
  {
   "cell_type": "code",
   "execution_count": 40,
   "metadata": {
    "collapsed": false
   },
   "outputs": [
    {
     "data": {
      "image/png": "[encoded data removed]",
      "text/plain": [
       "<matplotlib.figure.Figure at 0x7f01a2363cd0>"
      ]
     },
     "metadata": {},
     "output_type": "display_data"
    },
    {
     "name": "stdout",
     "output_type": "stream",
     "text": [
      "{\n",
      "  \"meta\": {\n",
      "    \"puid\": \"m9l6b7h4d2bkv1q2esc6i6h9ri\", \n",
      "    \"routing\": {}, \n",
      "    \"tags\": {}\n",
      "  }, \n",
      "  \"data\": {\n",
      "    \"names\": [\n",
      "      \"class:0\", \n",
      "      \"class:1\", \n",
      "      \"class:2\", \n",
      "      \"class:3\", \n",
      "      \"class:4\", \n",
      "      \"class:5\", \n",
      "      \"class:6\", \n",
      "      \"class:7\", \n",
      "      \"class:8\", \n",
      "      \"class:9\"\n",
      "    ], \n",
      "    \"ndarray\": [\n",
      "      [\n",
      "        4.421320045366883e-05, \n",
      "        6.564765044458909e-06, \n",
      "        0.009412484243512154, \n",
      "        1.7505271898698993e-05, \n",
      "        0.9371029138565063, \n",
      "        0.0004079443751834333, \n",
      "        0.018243910744786263, \n",
      "        0.0004114382900297642, \n",
      "        0.0016936453757807612, \n",
      "        0.03265940025448799\n",
      "      ]\n",
      "    ]\n",
      "  }\n",
      "}\n"
     ]
    }
   ],
   "source": [
    "batch_xs, batch_ys = mnist.train.next_batch(1)\n",
    "chosen=0\n",
    "gen_image(batch_xs[chosen]).show()\n",
    "data = batch_xs[chosen].reshape((1,784))\n",
    "request = {\"data\":{\"ndarray\":data.tolist()}}\n",
    "predictions = rest_request(\"mnist-classifier\",request)\n",
    "print(json.dumps(predictions, indent=2))"
   ]
  },
  {
   "cell_type": "markdown",
   "metadata": {},
   "source": [
    "gRPC Request"
   ]
  },
  {
   "cell_type": "code",
   "execution_count": 41,
   "metadata": {
    "collapsed": false
   },
   "outputs": [
    {
     "data": {
      "image/png": "[encoded data removed]",
      "text/plain": [
       "<matplotlib.figure.Figure at 0x7f01a1a3d9d0>"
      ]
     },
     "metadata": {},
     "output_type": "display_data"
    },
    {
     "name": "stdout",
     "output_type": "stream",
     "text": [
      "meta {\n",
      "  puid: \"6ahci6c0d6kffroi66scbhpev3\"\n",
      "}\n",
      "data {\n",
      "  names: \"class:0\"\n",
      "  names: \"class:1\"\n",
      "  names: \"class:2\"\n",
      "  names: \"class:3\"\n",
      "  names: \"class:4\"\n",
      "  names: \"class:5\"\n",
      "  names: \"class:6\"\n",
      "  names: \"class:7\"\n",
      "  names: \"class:8\"\n",
      "  names: \"class:9\"\n",
      "  tensor {\n",
      "    shape: 1\n",
      "    shape: 10\n",
      "    values: 2.36250216403e-05\n",
      "    values: 7.54742845999e-09\n",
      "    values: 0.963542997837\n",
      "    values: 0.00112966191955\n",
      "    values: 8.49796882169e-12\n",
      "    values: 7.86082910054e-06\n",
      "    values: 5.91073785472e-07\n",
      "    values: 1.81448689407e-10\n",
      "    values: 0.0352952554822\n",
      "    values: 4.26933066677e-09\n",
      "  }\n",
      "}\n",
      "\n"
     ]
    }
   ],
   "source": [
    "batch_xs, batch_ys = mnist.train.next_batch(1)\n",
    "chosen=0\n",
    "gen_image(batch_xs[chosen]).show()\n",
    "data = batch_xs[chosen].reshape((784))\n",
    "grpc_request(\"mnist-classifier\",data)"
   ]
  },
  {
   "cell_type": "markdown",
   "metadata": {},
   "source": [
    "# Next Steps\n",
    "seldon-core can deploy complex runtime graphs. We'll illustrate two below by training a second model using scikit-learn."
   ]
  },
  {
   "cell_type": "code",
   "execution_count": 15,
   "metadata": {
    "collapsed": false
   },
   "outputs": [
    {
     "name": "stdout",
     "output_type": "stream",
     "text": [
      "Name:             kubeflow-train-hxvmc\r\n",
      "Namespace:        default\r\n",
      "ServiceAccount:   default\r\n",
      "Status:           Pending\r\n",
      "Created:          Tue Feb 13 18:23:44 +0000 (1 second ago)\r\n",
      "Parameters:       \r\n",
      "  version:        0.1\r\n",
      "  github-user:    SeldonIO\r\n",
      "  docker-user:    seldonio\r\n"
     ]
    }
   ],
   "source": [
    "!argo submit ../workflows/training-sk-mnist-workflow.yaml"
   ]
  },
  {
   "cell_type": "code",
   "execution_count": 13,
   "metadata": {
    "collapsed": false
   },
   "outputs": [
    {
     "name": "stdout",
     "output_type": "stream",
     "text": [
      "NAME                   STATUS      AGE   DURATION\r\n",
      "kubeflow-train-5jpkn   Failed      4m    2m \r\n",
      "seldon-deploy-ckczd    Succeeded   1d    3m \r\n"
     ]
    }
   ],
   "source": [
    "!argo list"
   ]
  },
  {
   "cell_type": "code",
   "execution_count": 16,
   "metadata": {
    "collapsed": false
   },
   "outputs": [
    {
     "name": "stdout",
     "output_type": "stream",
     "text": [
      "Name:             seldon-deploy-xh84k\r\n",
      "Namespace:        default\r\n",
      "ServiceAccount:   default\r\n",
      "Status:           Pending\r\n",
      "Created:          Tue Feb 13 18:32:04 +0000 (now)\r\n",
      "Parameters:       \r\n",
      "  version:        0.1\r\n",
      "  github-user:    SeldonIO\r\n",
      "  docker-user:    seldonio\r\n"
     ]
    }
   ],
   "source": [
    "!argo submit ../workflows/serving-sk-mnist-workflow.yaml"
   ]
  },
  {
   "cell_type": "code",
   "execution_count": 17,
   "metadata": {
    "collapsed": false
   },
   "outputs": [
    {
     "name": "stdout",
     "output_type": "stream",
     "text": [
      "NAME                   STATUS      AGE    DURATION\r\n",
      "seldon-deploy-xh84k    Running     15s    15s \r\n",
      "kubeflow-train-hxvmc   Succeeded   8m     3m \r\n"
     ]
    }
   ],
   "source": [
    "!argo list"
   ]
  },
  {
   "cell_type": "markdown",
   "metadata": {},
   "source": [
    "## AB Test\n",
    " Run an AB Test between Tensorflow model and SKLearn Random Forest.\n",
    " "
   ]
  },
  {
   "cell_type": "code",
   "execution_count": 42,
   "metadata": {
    "collapsed": false
   },
   "outputs": [
    {
     "name": "stdout",
     "output_type": "stream",
     "text": [
      "{\r\n",
      "    \u001b[34;01m\"apiVersion\"\u001b[39;49;00m: \u001b[33m\"machinelearning.seldon.io/v1alpha1\"\u001b[39;49;00m,\r\n",
      "    \u001b[34;01m\"kind\"\u001b[39;49;00m: \u001b[33m\"SeldonDeployment\"\u001b[39;49;00m,\r\n",
      "    \u001b[34;01m\"metadata\"\u001b[39;49;00m: {\r\n",
      "\t\u001b[34;01m\"labels\"\u001b[39;49;00m: {\r\n",
      "\t    \u001b[34;01m\"app\"\u001b[39;49;00m: \u001b[33m\"seldon\"\u001b[39;49;00m\r\n",
      "\t},\r\n",
      "\t\u001b[34;01m\"name\"\u001b[39;49;00m: \u001b[33m\"mnist-classifier\"\u001b[39;49;00m\r\n",
      "    },\r\n",
      "    \u001b[34;01m\"spec\"\u001b[39;49;00m: {\r\n",
      "\t\u001b[34;01m\"annotations\"\u001b[39;49;00m: {\r\n",
      "\t    \u001b[34;01m\"project_name\"\u001b[39;49;00m: \u001b[33m\"kubeflow-seldon\"\u001b[39;49;00m,\r\n",
      "\t    \u001b[34;01m\"deployment_version\"\u001b[39;49;00m: \u001b[33m\"v1\"\u001b[39;49;00m\r\n",
      "\t},\r\n",
      "\t\u001b[34;01m\"name\"\u001b[39;49;00m: \u001b[33m\"mnist-classifier\"\u001b[39;49;00m,\r\n",
      "\t\u001b[34;01m\"predictors\"\u001b[39;49;00m: [\r\n",
      "\t    {\r\n",
      "\t\t\u001b[34;01m\"componentSpec\"\u001b[39;49;00m: {\r\n",
      "\t\t    \u001b[34;01m\"spec\"\u001b[39;49;00m: {\r\n",
      "\t\t\t\u001b[34;01m\"containers\"\u001b[39;49;00m: [\r\n",
      "\t\t\t    {\r\n",
      "                                \u001b[34;01m\"image\"\u001b[39;49;00m: \u001b[33m\"seldonio/deepmnistclassifier_runtime:0.1\"\u001b[39;49;00m,\r\n",
      "\t\t\t\t\u001b[34;01m\"name\"\u001b[39;49;00m: \u001b[33m\"tf-model\"\u001b[39;49;00m,\r\n",
      "                                \u001b[34;01m\"volumeMounts\"\u001b[39;49;00m: [\r\n",
      "                                    {\r\n",
      "                                        \u001b[34;01m\"mountPath\"\u001b[39;49;00m: \u001b[33m\"/data\"\u001b[39;49;00m,\r\n",
      "                                        \u001b[34;01m\"name\"\u001b[39;49;00m: \u001b[33m\"persistent-storage\"\u001b[39;49;00m\r\n",
      "                                    }\r\n",
      "                                ]\r\n",
      "\t\t\t    },\r\n",
      "\t\t\t    {\r\n",
      "                                \u001b[34;01m\"image\"\u001b[39;49;00m: \u001b[33m\"seldonio/skmnistclassifier_runtime:0.1\"\u001b[39;49;00m,\r\n",
      "\t\t\t\t\u001b[34;01m\"name\"\u001b[39;49;00m: \u001b[33m\"sk-model\"\u001b[39;49;00m,\r\n",
      "                                \u001b[34;01m\"volumeMounts\"\u001b[39;49;00m: [\r\n",
      "                                    {\r\n",
      "                                        \u001b[34;01m\"mountPath\"\u001b[39;49;00m: \u001b[33m\"/data\"\u001b[39;49;00m,\r\n",
      "                                        \u001b[34;01m\"name\"\u001b[39;49;00m: \u001b[33m\"persistent-storage\"\u001b[39;49;00m\r\n",
      "                                    }\r\n",
      "                                ]\r\n",
      "\t\t\t    }\r\n",
      "\t\t\t],\r\n",
      "                        \u001b[34;01m\"volumes\"\u001b[39;49;00m: [\r\n",
      "                            {\r\n",
      "                                \u001b[34;01m\"name\"\u001b[39;49;00m: \u001b[33m\"persistent-storage\"\u001b[39;49;00m,\r\n",
      "\t\t\t\t\u001b[34;01m\"volumeSource\"\u001b[39;49;00m : {\r\n",
      "                                    \u001b[34;01m\"persistentVolumeClaim\"\u001b[39;49;00m: {\r\n",
      "\t\t\t\t\t\u001b[34;01m\"claimName\"\u001b[39;49;00m: \u001b[33m\"ml-data\"\u001b[39;49;00m\r\n",
      "                                    }\r\n",
      "\t\t\t\t}\r\n",
      "                            }\r\n",
      "                        ]\r\n",
      "\t\t    }\r\n",
      "\t\t},\r\n",
      "\t\t\u001b[34;01m\"name\"\u001b[39;49;00m: \u001b[33m\"mnist-classifier\"\u001b[39;49;00m,\r\n",
      "\t\t\u001b[34;01m\"replicas\"\u001b[39;49;00m: \u001b[34m1\u001b[39;49;00m,\r\n",
      "\t\t\u001b[34;01m\"annotations\"\u001b[39;49;00m: {\r\n",
      "\t\t    \u001b[34;01m\"predictor_version\"\u001b[39;49;00m: \u001b[33m\"v1\"\u001b[39;49;00m\r\n",
      "\t\t},\r\n",
      "\t\t\u001b[34;01m\"graph\"\u001b[39;49;00m: {\r\n",
      "\t\t    \u001b[34;01m\"name\"\u001b[39;49;00m: \u001b[33m\"random-ab-test\"\u001b[39;49;00m,\r\n",
      "\t\t    \u001b[34;01m\"implementation\"\u001b[39;49;00m:\u001b[33m\"RANDOM_ABTEST\"\u001b[39;49;00m,\r\n",
      "\t\t    \u001b[34;01m\"parameters\"\u001b[39;49;00m: [\r\n",
      "\t\t\t{\r\n",
      "\t\t\t    \u001b[34;01m\"name\"\u001b[39;49;00m:\u001b[33m\"ratioA\"\u001b[39;49;00m,\r\n",
      "\t\t\t    \u001b[34;01m\"value\"\u001b[39;49;00m:\u001b[33m\"0.5\"\u001b[39;49;00m,\r\n",
      "\t\t\t    \u001b[34;01m\"type\"\u001b[39;49;00m:\u001b[33m\"FLOAT\"\u001b[39;49;00m\r\n",
      "\t\t\t}\r\n",
      "\t\t    ],\r\n",
      "\t\t    \u001b[34;01m\"children\"\u001b[39;49;00m: [\r\n",
      "\t\t\t{\r\n",
      "\t\t\t    \u001b[34;01m\"name\"\u001b[39;49;00m: \u001b[33m\"tf-model\"\u001b[39;49;00m,\r\n",
      "\t\t\t    \u001b[34;01m\"endpoint\"\u001b[39;49;00m:{\r\n",
      "\t\t\t\t\u001b[34;01m\"type\"\u001b[39;49;00m:\u001b[33m\"REST\"\u001b[39;49;00m\r\n",
      "\t\t\t    },\r\n",
      "\t\t\t    \u001b[34;01m\"type\"\u001b[39;49;00m:\u001b[33m\"MODEL\"\u001b[39;49;00m\r\n",
      "\t\t\t},\r\n",
      "\t\t\t{\r\n",
      "\t\t\t    \u001b[34;01m\"name\"\u001b[39;49;00m: \u001b[33m\"sk-model\"\u001b[39;49;00m,\r\n",
      "\t\t\t    \u001b[34;01m\"endpoint\"\u001b[39;49;00m:{\r\n",
      "\t\t\t\t\u001b[34;01m\"type\"\u001b[39;49;00m:\u001b[33m\"REST\"\u001b[39;49;00m\r\n",
      "\t\t\t    },\r\n",
      "\t\t\t    \u001b[34;01m\"type\"\u001b[39;49;00m:\u001b[33m\"MODEL\"\u001b[39;49;00m\r\n",
      "\t\t\t}   \r\n",
      "\t\t    ]\r\n",
      "\t\t}\r\n",
      "\t    }\r\n",
      "\t]\r\n",
      "    }\r\n",
      "}\r\n",
      "\t\t\r\n",
      "\t\t\r\n",
      "\r\n",
      " \r\n"
     ]
    }
   ],
   "source": [
    "!pygmentize ../k8s_serving/ab_test_sklearn_tensorflow.json"
   ]
  },
  {
   "cell_type": "code",
   "execution_count": 43,
   "metadata": {
    "collapsed": false
   },
   "outputs": [
    {
     "data": {
      "image/svg+xml": [
       "<?xml version=\"1.0\" encoding=\"UTF-8\" standalone=\"no\"?>\n",
       "<!DOCTYPE svg PUBLIC \"-//W3C//DTD SVG 1.1//EN\"\n",
       " \"http://www.w3.org/Graphics/SVG/1.1/DTD/svg11.dtd\">\n",
       "<!-- Generated by graphviz version 2.36.0 (20140111.2315)\n",
       " -->\n",
       "<!-- Title: %3 Pages: 1 -->\n",
       "<svg width=\"190pt\" height=\"243pt\"\n",
       " viewBox=\"0.00 0.00 190.00 243.00\" xmlns=\"http://www.w3.org/2000/svg\" xmlns:xlink=\"http://www.w3.org/1999/xlink\">\n",
       "<g id=\"graph0\" class=\"graph\" transform=\"scale(1 1) rotate(0) translate(4 239)\">\n",
       "<title>%3</title>\n",
       "<polygon fill=\"white\" stroke=\"none\" points=\"-4,4 -4,-239 186,-239 186,4 -4,4\"/>\n",
       "<g id=\"clust1\" class=\"cluster\"><title>cluster_0</title>\n",
       "<polygon fill=\"none\" stroke=\"black\" points=\"8,-8 8,-227 174,-227 174,-8 8,-8\"/>\n",
       "<text text-anchor=\"middle\" x=\"91\" y=\"-211.8\" font-family=\"Times,serif\" font-size=\"14.00\">predictor</text>\n",
       "</g>\n",
       "<!-- random&#45;ab&#45;test0 -->\n",
       "<g id=\"node1\" class=\"node\"><title>random&#45;ab&#45;test0</title>\n",
       "<polygon fill=\"lightgrey\" stroke=\"lightgrey\" points=\"140.25,-196 41.75,-196 41.75,-160 140.25,-160 140.25,-196\"/>\n",
       "<text text-anchor=\"middle\" x=\"91\" y=\"-174.3\" font-family=\"Times,serif\" font-size=\"14.00\">random&#45;ab&#45;test</text>\n",
       "</g>\n",
       "<!-- tf&#45;model -->\n",
       "<g id=\"node2\" class=\"node\"><title>tf&#45;model</title>\n",
       "<polygon fill=\"none\" stroke=\"black\" points=\"80,-124 16,-124 16,-88 80,-88 80,-124\"/>\n",
       "<text text-anchor=\"middle\" x=\"48\" y=\"-102.3\" font-family=\"Times,serif\" font-size=\"14.00\">tf&#45;model</text>\n",
       "</g>\n",
       "<!-- random&#45;ab&#45;test0&#45;&gt;tf&#45;model -->\n",
       "<g id=\"edge2\" class=\"edge\"><title>random&#45;ab&#45;test0&#45;&gt;tf&#45;model</title>\n",
       "<path fill=\"none\" stroke=\"black\" d=\"M80.3708,-159.697C75.3719,-151.559 69.309,-141.689 63.7879,-132.701\"/>\n",
       "<polygon fill=\"black\" stroke=\"black\" points=\"66.7234,-130.793 58.5069,-124.104 60.7589,-134.457 66.7234,-130.793\"/>\n",
       "</g>\n",
       "<!-- sk&#45;model -->\n",
       "<g id=\"node4\" class=\"node\"><title>sk&#45;model</title>\n",
       "<polygon fill=\"none\" stroke=\"black\" points=\"166,-124 98,-124 98,-88 166,-88 166,-124\"/>\n",
       "<text text-anchor=\"middle\" x=\"132\" y=\"-102.3\" font-family=\"Times,serif\" font-size=\"14.00\">sk&#45;model</text>\n",
       "</g>\n",
       "<!-- random&#45;ab&#45;test0&#45;&gt;sk&#45;model -->\n",
       "<g id=\"edge4\" class=\"edge\"><title>random&#45;ab&#45;test0&#45;&gt;sk&#45;model</title>\n",
       "<path fill=\"none\" stroke=\"black\" d=\"M101.135,-159.697C105.852,-151.644 111.562,-141.894 116.782,-132.982\"/>\n",
       "<polygon fill=\"black\" stroke=\"black\" points=\"119.948,-134.502 121.982,-124.104 113.908,-130.964 119.948,-134.502\"/>\n",
       "</g>\n",
       "<!-- tf&#45;modelendpoint -->\n",
       "<g id=\"node3\" class=\"node\"><title>tf&#45;modelendpoint</title>\n",
       "<ellipse fill=\"none\" stroke=\"black\" cx=\"48\" cy=\"-34\" rx=\"32.2457\" ry=\"18\"/>\n",
       "<text text-anchor=\"middle\" x=\"48\" y=\"-30.3\" font-family=\"Times,serif\" font-size=\"14.00\">REST</text>\n",
       "</g>\n",
       "<!-- tf&#45;model&#45;&gt;tf&#45;modelendpoint -->\n",
       "<g id=\"edge1\" class=\"edge\"><title>tf&#45;model&#45;&gt;tf&#45;modelendpoint</title>\n",
       "<path fill=\"none\" stroke=\"black\" d=\"M48,-87.6966C48,-79.9827 48,-70.7125 48,-62.1124\"/>\n",
       "<polygon fill=\"black\" stroke=\"black\" points=\"51.5001,-62.1043 48,-52.1043 44.5001,-62.1044 51.5001,-62.1043\"/>\n",
       "</g>\n",
       "<!-- sk&#45;modelendpoint -->\n",
       "<g id=\"node5\" class=\"node\"><title>sk&#45;modelendpoint</title>\n",
       "<ellipse fill=\"none\" stroke=\"black\" cx=\"132\" cy=\"-34\" rx=\"32.2457\" ry=\"18\"/>\n",
       "<text text-anchor=\"middle\" x=\"132\" y=\"-30.3\" font-family=\"Times,serif\" font-size=\"14.00\">REST</text>\n",
       "</g>\n",
       "<!-- sk&#45;model&#45;&gt;sk&#45;modelendpoint -->\n",
       "<g id=\"edge3\" class=\"edge\"><title>sk&#45;model&#45;&gt;sk&#45;modelendpoint</title>\n",
       "<path fill=\"none\" stroke=\"black\" d=\"M132,-87.6966C132,-79.9827 132,-70.7125 132,-62.1124\"/>\n",
       "<polygon fill=\"black\" stroke=\"black\" points=\"135.5,-62.1043 132,-52.1043 128.5,-62.1044 135.5,-62.1043\"/>\n",
       "</g>\n",
       "</g>\n",
       "</svg>\n"
      ],
      "text/plain": [
       "<graphviz.dot.Digraph at 0x7f01a1a97a10>"
      ]
     },
     "execution_count": 43,
     "metadata": {},
     "output_type": "execute_result"
    }
   ],
   "source": [
    "get_graph(\"../k8s_serving/ab_test_sklearn_tensorflow.json\",'r')"
   ]
  },
  {
   "cell_type": "code",
   "execution_count": 20,
   "metadata": {
    "collapsed": false
   },
   "outputs": [
    {
     "name": "stdout",
     "output_type": "stream",
     "text": [
      "seldondeployment \"mnist-classifier\" configured\r\n"
     ]
    }
   ],
   "source": [
    "!kubectl apply -f ../k8s_serving/ab_test_sklearn_tensorflow.json"
   ]
  },
  {
   "cell_type": "markdown",
   "metadata": {},
   "source": [
    "Wait until ready (replicas == replicasAvailable)"
   ]
  },
  {
   "cell_type": "code",
   "execution_count": 21,
   "metadata": {
    "collapsed": false
   },
   "outputs": [
    {
     "name": "stdout",
     "output_type": "stream",
     "text": [
      "map[predictorStatus:[map[name:mnist-classifier-mnist-classifier replicas:1 replicasAvailable:1]]]"
     ]
    }
   ],
   "source": [
    "!kubectl get seldondeployments mnist-classifier -o jsonpath='{.status}'"
   ]
  },
  {
   "cell_type": "code",
   "execution_count": 22,
   "metadata": {
    "collapsed": false
   },
   "outputs": [
    {
     "name": "stdout",
     "output_type": "stream",
     "text": [
      "0/100\n",
      "10/100\n",
      "20/100\n",
      "30/100\n",
      "40/100\n",
      "50/100\n",
      "60/100\n",
      "70/100\n",
      "80/100\n",
      "90/100\n"
     ]
    },
    {
     "data": {
      "image/png": "[encoded data removed]",
      "text/plain": [
       "<matplotlib.figure.Figure at 0x7f01a23f8b50>"
      ]
     },
     "metadata": {},
     "output_type": "display_data"
    }
   ],
   "source": [
    "sz = 100\n",
    "batch_xs, batch_ys = mnist.train.next_batch(sz)\n",
    "routes_history = []\n",
    "for idx in range(sz):\n",
    "    if idx % 10 == 0:\n",
    "        print \"{}/{}\".format(idx,sz)\n",
    "    data = batch_xs[idx].reshape((1,784))\n",
    "    request = {\"data\":{\"ndarray\":data.tolist()}}\n",
    "    response = rest_request(\"mnist-classifier\",request)\n",
    "    route = response.get(\"meta\").get(\"routing\").get(\"random-ab-test\")\n",
    "    routes_history.append(route)\n",
    "\n",
    "plt.figure(figsize=(15,6))\n",
    "ax = plt.scatter(range(len(routes_history)),routes_history)\n",
    "ax.axes.xaxis.set_label_text(\"Incoming Requests over Time\")\n",
    "ax.axes.yaxis.set_label_text(\"Selected Branch\")\n",
    "plt.yticks([0,1,2])\n",
    "_ = plt.title(\"Branch Chosen for Incoming Requests\")"
   ]
  },
  {
   "cell_type": "markdown",
   "metadata": {},
   "source": [
    "## Multi-Armed Bandit\n",
    "Run a e-greey multi-armed bandit to push traffic to best performing model."
   ]
  },
  {
   "cell_type": "code",
   "execution_count": 30,
   "metadata": {
    "collapsed": false
   },
   "outputs": [
    {
     "name": "stdout",
     "output_type": "stream",
     "text": [
      "{\r\n",
      "    \u001b[34;01m\"apiVersion\"\u001b[39;49;00m: \u001b[33m\"machinelearning.seldon.io/v1alpha1\"\u001b[39;49;00m,\r\n",
      "    \u001b[34;01m\"kind\"\u001b[39;49;00m: \u001b[33m\"SeldonDeployment\"\u001b[39;49;00m,\r\n",
      "    \u001b[34;01m\"metadata\"\u001b[39;49;00m: {\r\n",
      "\t\u001b[34;01m\"labels\"\u001b[39;49;00m: {\r\n",
      "\t    \u001b[34;01m\"app\"\u001b[39;49;00m: \u001b[33m\"seldon\"\u001b[39;49;00m\r\n",
      "\t},\r\n",
      "\t\u001b[34;01m\"name\"\u001b[39;49;00m: \u001b[33m\"mnist-classifier\"\u001b[39;49;00m\r\n",
      "    },\r\n",
      "    \u001b[34;01m\"spec\"\u001b[39;49;00m: {\r\n",
      "\t\u001b[34;01m\"annotations\"\u001b[39;49;00m: {\r\n",
      "\t    \u001b[34;01m\"project_name\"\u001b[39;49;00m: \u001b[33m\"kubeflow-seldon\"\u001b[39;49;00m,\r\n",
      "\t    \u001b[34;01m\"deployment_version\"\u001b[39;49;00m: \u001b[33m\"v1\"\u001b[39;49;00m\r\n",
      "\t},\r\n",
      "\t\u001b[34;01m\"name\"\u001b[39;49;00m: \u001b[33m\"mnist-classifier\"\u001b[39;49;00m,\r\n",
      "\t\u001b[34;01m\"predictors\"\u001b[39;49;00m: [\r\n",
      "\t    {\r\n",
      "\t\t\u001b[34;01m\"componentSpec\"\u001b[39;49;00m: {\r\n",
      "\t\t    \u001b[34;01m\"spec\"\u001b[39;49;00m: {\r\n",
      "\t\t\t\u001b[34;01m\"containers\"\u001b[39;49;00m: [\r\n",
      "\t\t\t    {\r\n",
      "                                \u001b[34;01m\"image\"\u001b[39;49;00m: \u001b[33m\"seldonio/deepmnistclassifier_runtime:0.1\"\u001b[39;49;00m,\r\n",
      "\t\t\t\t\u001b[34;01m\"name\"\u001b[39;49;00m: \u001b[33m\"tf-model\"\u001b[39;49;00m,\r\n",
      "                                \u001b[34;01m\"volumeMounts\"\u001b[39;49;00m: [\r\n",
      "                                    {\r\n",
      "                                        \u001b[34;01m\"mountPath\"\u001b[39;49;00m: \u001b[33m\"/data\"\u001b[39;49;00m,\r\n",
      "                                        \u001b[34;01m\"name\"\u001b[39;49;00m: \u001b[33m\"persistent-storage\"\u001b[39;49;00m\r\n",
      "                                    }\r\n",
      "                                ]\r\n",
      "\t\t\t    },\r\n",
      "\t\t\t    {\r\n",
      "                                \u001b[34;01m\"image\"\u001b[39;49;00m: \u001b[33m\"seldonio/skmnistclassifier_runtime:0.1\"\u001b[39;49;00m,\r\n",
      "\t\t\t\t\u001b[34;01m\"name\"\u001b[39;49;00m: \u001b[33m\"sk-model\"\u001b[39;49;00m,\r\n",
      "                                \u001b[34;01m\"volumeMounts\"\u001b[39;49;00m: [\r\n",
      "                                    {\r\n",
      "                                        \u001b[34;01m\"mountPath\"\u001b[39;49;00m: \u001b[33m\"/data\"\u001b[39;49;00m,\r\n",
      "                                        \u001b[34;01m\"name\"\u001b[39;49;00m: \u001b[33m\"persistent-storage\"\u001b[39;49;00m\r\n",
      "                                    }\r\n",
      "                                ]\r\n",
      "\t\t\t    },\r\n",
      "\t\t\t    {\r\n",
      "\t\t\t\t\u001b[34;01m\"image\"\u001b[39;49;00m: \u001b[33m\"seldonio/mab_epsilon_greedy:1.1\"\u001b[39;49;00m,\r\n",
      "\t\t\t\t\u001b[34;01m\"name\"\u001b[39;49;00m: \u001b[33m\"eg-router\"\u001b[39;49;00m\r\n",
      "\t\t\t    }\r\n",
      "\t\t\t],\r\n",
      "                        \u001b[34;01m\"volumes\"\u001b[39;49;00m: [\r\n",
      "                            {\r\n",
      "                                \u001b[34;01m\"name\"\u001b[39;49;00m: \u001b[33m\"persistent-storage\"\u001b[39;49;00m,\r\n",
      "\t\t\t\t\u001b[34;01m\"volumeSource\"\u001b[39;49;00m : {\r\n",
      "                                    \u001b[34;01m\"persistentVolumeClaim\"\u001b[39;49;00m: {\r\n",
      "\t\t\t\t\t\u001b[34;01m\"claimName\"\u001b[39;49;00m: \u001b[33m\"ml-data\"\u001b[39;49;00m\r\n",
      "                                    }\r\n",
      "\t\t\t\t}\r\n",
      "                            }\r\n",
      "                        ]\r\n",
      "\t\t    }\r\n",
      "\t\t},\r\n",
      "\t\t\u001b[34;01m\"name\"\u001b[39;49;00m: \u001b[33m\"mnist-classifier\"\u001b[39;49;00m,\r\n",
      "\t\t\u001b[34;01m\"replicas\"\u001b[39;49;00m: \u001b[34m1\u001b[39;49;00m,\r\n",
      "\t\t\u001b[34;01m\"annotations\"\u001b[39;49;00m: {\r\n",
      "\t\t    \u001b[34;01m\"predictor_version\"\u001b[39;49;00m: \u001b[33m\"v1\"\u001b[39;49;00m\r\n",
      "\t\t},\r\n",
      "\t\t\u001b[34;01m\"graph\"\u001b[39;49;00m: {\r\n",
      "\t\t    \u001b[34;01m\"name\"\u001b[39;49;00m: \u001b[33m\"eg-router\"\u001b[39;49;00m,\r\n",
      "\t\t    \u001b[34;01m\"type\"\u001b[39;49;00m:\u001b[33m\"ROUTER\"\u001b[39;49;00m,\r\n",
      "\t\t    \u001b[34;01m\"parameters\"\u001b[39;49;00m: [\r\n",
      "\t\t\t{\r\n",
      "\t\t\t    \u001b[34;01m\"name\"\u001b[39;49;00m: \u001b[33m\"n_branches\"\u001b[39;49;00m,\r\n",
      "\t\t\t    \u001b[34;01m\"value\"\u001b[39;49;00m: \u001b[33m\"2\"\u001b[39;49;00m,\r\n",
      "\t\t\t    \u001b[34;01m\"type\"\u001b[39;49;00m: \u001b[33m\"INT\"\u001b[39;49;00m\r\n",
      "\t\t\t},\r\n",
      "\t\t\t{\r\n",
      "\t\t\t    \u001b[34;01m\"name\"\u001b[39;49;00m: \u001b[33m\"epsilon\"\u001b[39;49;00m,\r\n",
      "\t\t\t    \u001b[34;01m\"value\"\u001b[39;49;00m: \u001b[33m\"0.1\"\u001b[39;49;00m,\r\n",
      "\t\t\t    \u001b[34;01m\"type\"\u001b[39;49;00m: \u001b[33m\"FLOAT\"\u001b[39;49;00m\r\n",
      "\t\t\t},\r\n",
      "\t\t\t{\r\n",
      "\t\t\t    \u001b[34;01m\"name\"\u001b[39;49;00m: \u001b[33m\"verbose\"\u001b[39;49;00m,\r\n",
      "\t\t\t    \u001b[34;01m\"value\"\u001b[39;49;00m: \u001b[33m\"1\"\u001b[39;49;00m,\r\n",
      "\t\t\t    \u001b[34;01m\"type\"\u001b[39;49;00m: \u001b[33m\"BOOL\"\u001b[39;49;00m\r\n",
      "\t\t\t}\r\n",
      "\t\t    ],\r\n",
      "\t\t    \u001b[34;01m\"children\"\u001b[39;49;00m: [\r\n",
      "\t\t\t{\r\n",
      "\t\t\t    \u001b[34;01m\"name\"\u001b[39;49;00m: \u001b[33m\"sk-model\"\u001b[39;49;00m,\r\n",
      "\t\t\t    \u001b[34;01m\"type\"\u001b[39;49;00m: \u001b[33m\"MODEL\"\u001b[39;49;00m,\r\n",
      "\t\t\t    \u001b[34;01m\"endpoint\"\u001b[39;49;00m:{\r\n",
      "\t\t\t\t\u001b[34;01m\"type\"\u001b[39;49;00m:\u001b[33m\"REST\"\u001b[39;49;00m\r\n",
      "\t\t\t    }\r\n",
      "\t\t\t},\r\n",
      "\t\t\t{\r\n",
      "\t\t\t    \u001b[34;01m\"name\"\u001b[39;49;00m: \u001b[33m\"tf-model\"\u001b[39;49;00m,\r\n",
      "\t\t\t    \u001b[34;01m\"type\"\u001b[39;49;00m: \u001b[33m\"MODEL\"\u001b[39;49;00m,\r\n",
      "\t\t\t    \u001b[34;01m\"endpoint\"\u001b[39;49;00m:{\r\n",
      "\t\t\t\t\u001b[34;01m\"type\"\u001b[39;49;00m:\u001b[33m\"REST\"\u001b[39;49;00m\r\n",
      "\t\t\t    }\r\n",
      "\t\t\t}\r\n",
      "\t\t    ]\r\n",
      "\t\t}\r\n",
      "\t    }\r\n",
      "\t]\r\n",
      "    }\r\n",
      "}\r\n"
     ]
    }
   ],
   "source": [
    "!pygmentize ../k8s_serving/epsilon_greedy.json"
   ]
  },
  {
   "cell_type": "code",
   "execution_count": 31,
   "metadata": {
    "collapsed": false
   },
   "outputs": [
    {
     "data": {
      "image/svg+xml": [
       "<?xml version=\"1.0\" encoding=\"UTF-8\" standalone=\"no\"?>\n",
       "<!DOCTYPE svg PUBLIC \"-//W3C//DTD SVG 1.1//EN\"\n",
       " \"http://www.w3.org/Graphics/SVG/1.1/DTD/svg11.dtd\">\n",
       "<!-- Generated by graphviz version 2.36.0 (20140111.2315)\n",
       " -->\n",
       "<!-- Title: %3 Pages: 1 -->\n",
       "<svg width=\"190pt\" height=\"243pt\"\n",
       " viewBox=\"0.00 0.00 190.00 243.00\" xmlns=\"http://www.w3.org/2000/svg\" xmlns:xlink=\"http://www.w3.org/1999/xlink\">\n",
       "<g id=\"graph0\" class=\"graph\" transform=\"scale(1 1) rotate(0) translate(4 239)\">\n",
       "<title>%3</title>\n",
       "<polygon fill=\"white\" stroke=\"none\" points=\"-4,4 -4,-239 186,-239 186,4 -4,4\"/>\n",
       "<g id=\"clust1\" class=\"cluster\"><title>cluster_0</title>\n",
       "<polygon fill=\"none\" stroke=\"black\" points=\"8,-8 8,-227 174,-227 174,-8 8,-8\"/>\n",
       "<text text-anchor=\"middle\" x=\"91\" y=\"-211.8\" font-family=\"Times,serif\" font-size=\"14.00\">predictor</text>\n",
       "</g>\n",
       "<!-- eg&#45;router0 -->\n",
       "<g id=\"node1\" class=\"node\"><title>eg&#45;router0</title>\n",
       "<polygon fill=\"none\" stroke=\"black\" points=\"124,-196 58,-196 58,-160 124,-160 124,-196\"/>\n",
       "<text text-anchor=\"middle\" x=\"91\" y=\"-174.3\" font-family=\"Times,serif\" font-size=\"14.00\">eg&#45;router</text>\n",
       "</g>\n",
       "<!-- sk&#45;model -->\n",
       "<g id=\"node2\" class=\"node\"><title>sk&#45;model</title>\n",
       "<polygon fill=\"none\" stroke=\"black\" points=\"84,-124 16,-124 16,-88 84,-88 84,-124\"/>\n",
       "<text text-anchor=\"middle\" x=\"50\" y=\"-102.3\" font-family=\"Times,serif\" font-size=\"14.00\">sk&#45;model</text>\n",
       "</g>\n",
       "<!-- eg&#45;router0&#45;&gt;sk&#45;model -->\n",
       "<g id=\"edge2\" class=\"edge\"><title>eg&#45;router0&#45;&gt;sk&#45;model</title>\n",
       "<path fill=\"none\" stroke=\"black\" d=\"M80.8652,-159.697C76.1484,-151.644 70.4382,-141.894 65.2183,-132.982\"/>\n",
       "<polygon fill=\"black\" stroke=\"black\" points=\"68.0924,-130.964 60.0183,-124.104 62.0522,-134.502 68.0924,-130.964\"/>\n",
       "</g>\n",
       "<!-- tf&#45;model -->\n",
       "<g id=\"node4\" class=\"node\"><title>tf&#45;model</title>\n",
       "<polygon fill=\"none\" stroke=\"black\" points=\"166,-124 102,-124 102,-88 166,-88 166,-124\"/>\n",
       "<text text-anchor=\"middle\" x=\"134\" y=\"-102.3\" font-family=\"Times,serif\" font-size=\"14.00\">tf&#45;model</text>\n",
       "</g>\n",
       "<!-- eg&#45;router0&#45;&gt;tf&#45;model -->\n",
       "<g id=\"edge4\" class=\"edge\"><title>eg&#45;router0&#45;&gt;tf&#45;model</title>\n",
       "<path fill=\"none\" stroke=\"black\" d=\"M101.629,-159.697C106.628,-151.559 112.691,-141.689 118.212,-132.701\"/>\n",
       "<polygon fill=\"black\" stroke=\"black\" points=\"121.241,-134.457 123.493,-124.104 115.277,-130.793 121.241,-134.457\"/>\n",
       "</g>\n",
       "<!-- sk&#45;modelendpoint -->\n",
       "<g id=\"node3\" class=\"node\"><title>sk&#45;modelendpoint</title>\n",
       "<ellipse fill=\"none\" stroke=\"black\" cx=\"50\" cy=\"-34\" rx=\"32.2457\" ry=\"18\"/>\n",
       "<text text-anchor=\"middle\" x=\"50\" y=\"-30.3\" font-family=\"Times,serif\" font-size=\"14.00\">REST</text>\n",
       "</g>\n",
       "<!-- sk&#45;model&#45;&gt;sk&#45;modelendpoint -->\n",
       "<g id=\"edge1\" class=\"edge\"><title>sk&#45;model&#45;&gt;sk&#45;modelendpoint</title>\n",
       "<path fill=\"none\" stroke=\"black\" d=\"M50,-87.6966C50,-79.9827 50,-70.7125 50,-62.1124\"/>\n",
       "<polygon fill=\"black\" stroke=\"black\" points=\"53.5001,-62.1043 50,-52.1043 46.5001,-62.1044 53.5001,-62.1043\"/>\n",
       "</g>\n",
       "<!-- tf&#45;modelendpoint -->\n",
       "<g id=\"node5\" class=\"node\"><title>tf&#45;modelendpoint</title>\n",
       "<ellipse fill=\"none\" stroke=\"black\" cx=\"134\" cy=\"-34\" rx=\"32.2457\" ry=\"18\"/>\n",
       "<text text-anchor=\"middle\" x=\"134\" y=\"-30.3\" font-family=\"Times,serif\" font-size=\"14.00\">REST</text>\n",
       "</g>\n",
       "<!-- tf&#45;model&#45;&gt;tf&#45;modelendpoint -->\n",
       "<g id=\"edge3\" class=\"edge\"><title>tf&#45;model&#45;&gt;tf&#45;modelendpoint</title>\n",
       "<path fill=\"none\" stroke=\"black\" d=\"M134,-87.6966C134,-79.9827 134,-70.7125 134,-62.1124\"/>\n",
       "<polygon fill=\"black\" stroke=\"black\" points=\"137.5,-62.1043 134,-52.1043 130.5,-62.1044 137.5,-62.1043\"/>\n",
       "</g>\n",
       "</g>\n",
       "</svg>\n"
      ],
      "text/plain": [
       "<graphviz.dot.Digraph at 0x7f019c2bffd0>"
      ]
     },
     "execution_count": 31,
     "metadata": {},
     "output_type": "execute_result"
    }
   ],
   "source": [
    "get_graph(\"../k8s_serving/epsilon_greedy.json\",'r')"
   ]
  },
  {
   "cell_type": "code",
   "execution_count": 32,
   "metadata": {
    "collapsed": false
   },
   "outputs": [
    {
     "name": "stdout",
     "output_type": "stream",
     "text": [
      "seldondeployment \"mnist-classifier\" configured\r\n"
     ]
    }
   ],
   "source": [
    "!kubectl apply -f ../k8s_serving/epsilon_greedy.json"
   ]
  },
  {
   "cell_type": "markdown",
   "metadata": {},
   "source": [
    "Wait until ready (replicas == replicasAvailable)"
   ]
  },
  {
   "cell_type": "code",
   "execution_count": 33,
   "metadata": {
    "collapsed": false
   },
   "outputs": [
    {
     "name": "stdout",
     "output_type": "stream",
     "text": [
      "map[predictorStatus:[map[name:mnist-classifier-mnist-classifier replicas:1 replicasAvailable:1]]]"
     ]
    }
   ],
   "source": [
    "!kubectl get seldondeployments mnist-classifier -o jsonpath='{.status}'"
   ]
  },
  {
   "cell_type": "code",
   "execution_count": 34,
   "metadata": {
    "collapsed": false
   },
   "outputs": [
    {
     "name": "stdout",
     "output_type": "stream",
     "text": [
      "0/100\n",
      "10/100\n",
      "20/100\n",
      "30/100\n",
      "40/100\n",
      "50/100\n",
      "60/100\n",
      "70/100\n",
      "80/100\n",
      "90/100\n",
      "[3.0, 80.0]\n"
     ]
    },
    {
     "data": {
      "image/png": "[encoded data removed]",
      "text/plain": [
       "<matplotlib.figure.Figure at 0x7f01a28ff610>"
      ]
     },
     "metadata": {},
     "output_type": "display_data"
    }
   ],
   "source": [
    "score = [0.0,0.0]\n",
    "sz = 100\n",
    "batch_xs, batch_ys = mnist.train.next_batch(sz)\n",
    "routes_history = []\n",
    "for idx in range(sz):\n",
    "    if idx % 10 == 0:\n",
    "        print \"{}/{}\".format(idx,sz)\n",
    "    data = batch_xs[idx].reshape((1,784))\n",
    "    request = {\"data\":{\"ndarray\":data.tolist()}}\n",
    "    response = rest_request(\"mnist-classifier\",request)\n",
    "    route = response.get(\"meta\").get(\"routing\").get(\"eg-router\")\n",
    "    proba = response[\"data\"][\"ndarray\"][0]\n",
    "    predicted = proba.index(max(proba))\n",
    "    correct = np.argmax(batch_ys[idx])\n",
    "    if predicted == correct:\n",
    "        score[route] = score[route] + 1\n",
    "        send_feedback_rest(\"mnist-classifier\",request,response,reward=1)\n",
    "    else:\n",
    "        send_feedback_rest(\"mnist-classifier\",request,response,reward=0)\n",
    "    routes_history.append(route)\n",
    "\n",
    "plt.figure(figsize=(15,6))\n",
    "ax = plt.scatter(range(len(routes_history)),routes_history)\n",
    "ax.axes.xaxis.set_label_text(\"Incoming Requests over Time\")\n",
    "ax.axes.yaxis.set_label_text(\"Selected Branch\")\n",
    "plt.yticks([0,1,2])\n",
    "_ = plt.title(\"Branch Chosen for Incoming Requests\")\n",
    "print score"
   ]
  },
  {
   "cell_type": "code",
   "execution_count": null,
   "metadata": {
    "collapsed": true
   },
   "outputs": [],
   "source": []
  }
 ],
 "metadata": {
  "kernelspec": {
   "display_name": "Python 2",
   "language": "python",
   "name": "python2"
  },
  "language_info": {
   "codemirror_mode": {
    "name": "ipython",
    "version": 2
   },
   "file_extension": ".py",
   "mimetype": "text/x-python",
   "name": "python",
   "nbconvert_exporter": "python",
   "pygments_lexer": "ipython2",
   "version": "2.7.11"
  }
 },
 "nbformat": 4,
 "nbformat_minor": 1
}
