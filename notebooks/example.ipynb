{
 "cells": [
  {
   "cell_type": "markdown",
   "metadata": {},
   "source": [
    "# End-To-End Train and Deploy Machine Learning Model on Kubernetes\n",
    "\n",
    "Using:\n",
    "\n",
    " * kubeflow\n",
    " * seldon-core\n",
    " \n",
    " \n",
    "Follow the [README.md] to setup, train and deploy your model. This notebook will show\n",
    " \n",
    "The example will be the MNIST handwriiten digit classification task.\n",
    "\n",
    "![MNIST](mnist.png \"MNIST Digits\")"
   ]
  },
  {
   "cell_type": "markdown",
   "metadata": {},
   "source": [
    "## 5. Data Science\n",
    "You will need Tensorflow installed to run this section."
   ]
  },
  {
   "cell_type": "code",
   "execution_count": 37,
   "metadata": {
    "collapsed": true
   },
   "outputs": [],
   "source": [
    "%matplotlib inline\n",
    "from matplotlib import pyplot as plt\n",
    "import numpy as np\n",
    "def gen_image(arr):\n",
    "    two_d = (np.reshape(arr, (28, 28)) * 255).astype(np.uint8)\n",
    "    plt.imshow(two_d,cmap=plt.cm.gray_r, interpolation='nearest')\n",
    "    return plt"
   ]
  },
  {
   "cell_type": "code",
   "execution_count": 38,
   "metadata": {
    "collapsed": false
   },
   "outputs": [
    {
     "name": "stdout",
     "output_type": "stream",
     "text": [
      "Extracting MNIST_data/train-images-idx3-ubyte.gz\n",
      "Extracting MNIST_data/train-labels-idx1-ubyte.gz\n",
      "Extracting MNIST_data/t10k-images-idx3-ubyte.gz\n",
      "Extracting MNIST_data/t10k-labels-idx1-ubyte.gz\n"
     ]
    },
    {
     "data": {
      "image/png": "[encoded data removed]",
      "text/plain": [
       "<matplotlib.figure.Figure at 0x7f560eae7450>"
      ]
     },
     "metadata": {},
     "output_type": "display_data"
    }
   ],
   "source": [
    "from tensorflow.examples.tutorials.mnist import input_data\n",
    "mnist = input_data.read_data_sets(\"MNIST_data/\", one_hot = True)\n",
    "batch_xs, batch_ys = mnist.train.next_batch(10)\n",
    "gen_image(batch_xs[1]).show()"
   ]
  },
  {
   "cell_type": "code",
   "execution_count": 24,
   "metadata": {
    "collapsed": false
   },
   "outputs": [
    {
     "name": "stdout",
     "output_type": "stream",
     "text": [
      "Extracting MNIST_data/train-images-idx3-ubyte.gz\n",
      "Extracting MNIST_data/train-labels-idx1-ubyte.gz\n",
      "Extracting MNIST_data/t10k-images-idx3-ubyte.gz\n",
      "Extracting MNIST_data/t10k-labels-idx1-ubyte.gz\n",
      "WARNING:tensorflow:From <ipython-input-24-f38933426b72>:13: initialize_all_variables (from tensorflow.python.ops.variables) is deprecated and will be removed after 2017-03-02.\n",
      "Instructions for updating:\n",
      "Use `tf.global_variables_initializer` instead.\n",
      "0.9157\n"
     ]
    }
   ],
   "source": [
    "from tensorflow.examples.tutorials.mnist import input_data\n",
    "mnist = input_data.read_data_sets(\"MNIST_data/\", one_hot = True)\n",
    "import tensorflow as tf\n",
    "\n",
    "x = tf.placeholder(tf.float32, [None,784], name=\"x\")\n",
    "W = tf.Variable(tf.zeros([784,10]))\n",
    "b = tf.Variable(tf.zeros([10]))\n",
    "y = tf.nn.softmax(tf.matmul(x,W) + b, name=\"y\")\n",
    "y_ = tf.placeholder(tf.float32, [None, 10])\n",
    "\n",
    "cross_entropy = tf.reduce_mean(-tf.reduce_sum(y_ * tf.log(y), reduction_indices=[1]))\n",
    "train_step = tf.train.GradientDescentOptimizer(0.5).minimize(cross_entropy)\n",
    "init = tf.initialize_all_variables()\n",
    "sess = tf.Session()\n",
    "sess.run(init)\n",
    "\n",
    "for i in range(1000):\n",
    "    batch_xs, batch_ys = mnist.train.next_batch(100)\n",
    "    sess.run(train_step, feed_dict={x: batch_xs, y_: batch_ys})\n",
    "\n",
    "correct_prediction = tf.equal(tf.argmax(y,1), tf.argmax(y_,1))\n",
    "accuracy = tf.reduce_mean(tf.cast(correct_prediction, tf.float32))\n",
    "print(sess.run(accuracy, feed_dict = {x: mnist.test.images, y_:mnist.test.labels}))\n",
    "\n"
   ]
  },
  {
   "cell_type": "markdown",
   "metadata": {},
   "source": [
    "# Dockerize and Train Model"
   ]
  },
  {
   "cell_type": "code",
   "execution_count": 25,
   "metadata": {
    "collapsed": false
   },
   "outputs": [
    {
     "name": "stdout",
     "output_type": "stream",
     "text": [
      "Name:             kubeflow-train-2x2pq\r\n",
      "Namespace:        default\r\n",
      "ServiceAccount:   default\r\n",
      "Status:           Pending\r\n",
      "Created:          Fri Feb 09 15:37:30 +0000 (1 second ago)\r\n",
      "Parameters:       \r\n",
      "  version:        0.1\r\n",
      "  github-user:    SeldonIO\r\n",
      "  docker-user:    seldonio\r\n",
      "  tfjob-version-hack: 1\r\n"
     ]
    }
   ],
   "source": [
    "!argo submit ../training-mnist-workflow.yaml"
   ]
  },
  {
   "cell_type": "code",
   "execution_count": 26,
   "metadata": {
    "collapsed": false
   },
   "outputs": [
    {
     "name": "stdout",
     "output_type": "stream",
     "text": [
      "NAME                   STATUS    AGE    DURATION\r\n",
      "kubeflow-train-2x2pq   Running   15s    15s \r\n"
     ]
    }
   ],
   "source": [
    "!argo list"
   ]
  },
  {
   "cell_type": "code",
   "execution_count": 30,
   "metadata": {
    "collapsed": false
   },
   "outputs": [
    {
     "name": "stdout",
     "output_type": "stream",
     "text": [
      "Name:             kubeflow-train-2x2pq\r\n",
      "Namespace:        default\r\n",
      "ServiceAccount:   default\r\n",
      "Status:           Succeeded\r\n",
      "Created:          Fri Feb 09 15:37:30 +0000 (3 minutes ago)\r\n",
      "Started:          Fri Feb 09 15:37:30 +0000 (3 minutes ago)\r\n",
      "Finished:         Fri Feb 09 15:40:54 +0000 (23 seconds ago)\r\n",
      "Duration:         3 minutes 24 seconds\r\n",
      "Parameters:       \r\n",
      "  version:        0.1\r\n",
      "  github-user:    SeldonIO\r\n",
      "  docker-user:    seldonio\r\n",
      "  tfjob-version-hack: 1\r\n",
      "\r\n",
      "\u001b[39mSTEP\u001b[0m                     PODNAME                          DURATION  MESSAGE\r\n",
      " \u001b[32m✔\u001b[0m kubeflow-train-2x2pq                                             \r\n",
      " ├---\u001b[32m✔\u001b[0m build-push        kubeflow-train-2x2pq-4048894882  1m        \r\n",
      " └---\u001b[32m✔\u001b[0m train             kubeflow-train-2x2pq-1479042668  1m        \r\n"
     ]
    }
   ],
   "source": [
    "!argo get kubeflow-train-2x2pq"
   ]
  },
  {
   "cell_type": "markdown",
   "metadata": {},
   "source": [
    "Delete argo job to free persistent disk usage."
   ]
  },
  {
   "cell_type": "code",
   "execution_count": null,
   "metadata": {
    "collapsed": true
   },
   "outputs": [],
   "source": [
    "!argo delete --all"
   ]
  },
  {
   "cell_type": "markdown",
   "metadata": {},
   "source": [
    "# Deploy Model"
   ]
  },
  {
   "cell_type": "code",
   "execution_count": 32,
   "metadata": {
    "collapsed": false
   },
   "outputs": [
    {
     "name": "stdout",
     "output_type": "stream",
     "text": [
      "Name:             seldon-package-db5m7\r\n",
      "Namespace:        default\r\n",
      "ServiceAccount:   default\r\n",
      "Status:           Pending\r\n",
      "Created:          Fri Feb 09 15:42:12 +0000 (now)\r\n",
      "Parameters:       \r\n",
      "  version:        0.1\r\n"
     ]
    }
   ],
   "source": [
    "!argo submit ../serving-mnist-workflow.yaml"
   ]
  },
  {
   "cell_type": "code",
   "execution_count": 34,
   "metadata": {
    "collapsed": false
   },
   "outputs": [
    {
     "name": "stdout",
     "output_type": "stream",
     "text": [
      "NAME                   STATUS      AGE   DURATION\r\n",
      "seldon-package-db5m7   Running     1m    1m \r\n",
      "kubeflow-train-2x2pq   Succeeded   5m    3m \r\n"
     ]
    }
   ],
   "source": [
    "!argo list"
   ]
  },
  {
   "cell_type": "markdown",
   "metadata": {},
   "source": [
    "## Get predictions\n",
    "Ensure you have port forwarded the ambassador reverse proxy\n",
    "\n",
    "```bash\n",
    "kubectl port-forward $(kubectl get pods -n default -l service=ambassador -o jsonpath='{.items[0].metadata.name}') -n default 8002:80\n",
    "```"
   ]
  },
  {
   "cell_type": "code",
   "execution_count": 63,
   "metadata": {
    "collapsed": true
   },
   "outputs": [],
   "source": [
    "import requests\n",
    "from requests.auth import HTTPBasicAuth\n",
    "import commands\n",
    "from random import randint,random\n",
    "from proto import prediction_pb2\n",
    "from proto import prediction_pb2_grpc\n",
    "import grpc\n",
    "\n",
    "#AMBASSADOR_API_IP=commands.getoutput(\"kubectl get svc ambassador -o jsonpath='{.status.loadBalancer.ingress[0].ip}'\")\n",
    "AMBASSADOR_API_IP=\"localhost:8002\"\n",
    "\n",
    "def rest_request(deploymentName,data):\n",
    "    payload = {\"data\":{\"ndarray\":data.tolist()}}\n",
    "    response = requests.post(\n",
    "                \"http://\"+AMBASSADOR_API_IP+\"/seldon/\"+deploymentName+\"/api/v0.1/predictions\",\n",
    "                json=payload)\n",
    "    print response.status_code\n",
    "    print response.text   \n",
    "    \n",
    "def rest_request_auth(deploymentName,data,username,password):\n",
    "    payload = {\"data\":{\"ndarray\":data.tolist()}}\n",
    "    response = requests.post(\n",
    "                \"http://\"+AMBASSADOR_API_IP+\"/seldon/\"+deploymentName+\"/api/v0.1/predictions\",\n",
    "                json=payload,\n",
    "                auth=HTTPBasicAuth(username, password))\n",
    "    print response.status_code\n",
    "    print response.text   \n",
    "\n",
    "def grpc_request(deploymentName,data):\n",
    "    datadef = prediction_pb2.DefaultData(\n",
    "            names = [\"a\",\"b\"],\n",
    "            tensor = prediction_pb2.Tensor(\n",
    "                shape = [1,784],\n",
    "                values = data\n",
    "                )\n",
    "            )\n",
    "    request = prediction_pb2.SeldonMessage(data = datadef)\n",
    "    channel = grpc.insecure_channel(AMBASSADOR_API_IP)\n",
    "    stub = prediction_pb2_grpc.SeldonStub(channel)\n",
    "    metadata = [('seldon',deploymentName)]\n",
    "    response = stub.Predict(request=request,metadata=metadata)\n",
    "    print response"
   ]
  },
  {
   "cell_type": "markdown",
   "metadata": {},
   "source": [
    "#### REST Request"
   ]
  },
  {
   "cell_type": "code",
   "execution_count": 70,
   "metadata": {
    "collapsed": false
   },
   "outputs": [
    {
     "name": "stdout",
     "output_type": "stream",
     "text": [
      "200\n",
      "{\n",
      "  \"meta\": {\n",
      "    \"puid\": \"elqg6ptfitedt39p2s8nkiu4ci\",\n",
      "    \"tags\": {\n",
      "    },\n",
      "    \"routing\": {\n",
      "    }\n",
      "  },\n",
      "  \"data\": {\n",
      "    \"names\": [\"class:0\", \"class:1\", \"class:2\", \"class:3\", \"class:4\", \"class:5\", \"class:6\", \"class:7\", \"class:8\", \"class:9\"],\n",
      "    \"ndarray\": [[1.8100666056852788E-4, 7.428679055010434E-6, 3.517747682053596E-4, 2.0056830544490367E-4, 0.0011431799503043294, 0.17650771141052246, 5.459053863887675E-5, 1.167916925624013E-4, 0.8170133829116821, 0.0044235908426344395]]\n",
      "  }\n",
      "}\n",
      "CPU times: user 2.83 ms, sys: 800 µs, total: 3.63 ms\n",
      "Wall time: 91.7 ms\n"
     ]
    }
   ],
   "source": [
    "chosen=1\n",
    "gen_image(batch_xs[chosen]).show()\n",
    "rest_request(\"mnist-classifier\",batch_xs[chosen].reshape((1,784)))"
   ]
  },
  {
   "cell_type": "markdown",
   "metadata": {},
   "source": [
    "gRPC Request"
   ]
  },
  {
   "cell_type": "code",
   "execution_count": 71,
   "metadata": {
    "collapsed": false
   },
   "outputs": [
    {
     "name": "stdout",
     "output_type": "stream",
     "text": [
      "meta {\n",
      "  puid: \"8i957v9uhoeel80llgkho9lpkm\"\n",
      "}\n",
      "data {\n",
      "  names: \"class:0\"\n",
      "  names: \"class:1\"\n",
      "  names: \"class:2\"\n",
      "  names: \"class:3\"\n",
      "  names: \"class:4\"\n",
      "  names: \"class:5\"\n",
      "  names: \"class:6\"\n",
      "  names: \"class:7\"\n",
      "  names: \"class:8\"\n",
      "  names: \"class:9\"\n",
      "  tensor {\n",
      "    shape: 1\n",
      "    shape: 10\n",
      "    values: 0.997736096382\n",
      "    values: 9.12441476542e-12\n",
      "    values: 0.00154568848666\n",
      "    values: 0.000551808509044\n",
      "    values: 1.11255232582e-07\n",
      "    values: 6.27258268651e-05\n",
      "    values: 7.67308301874e-05\n",
      "    values: 1.18708237551e-06\n",
      "    values: 1.10227965706e-05\n",
      "    values: 1.45344474731e-05\n",
      "  }\n",
      "}\n",
      "\n",
      "CPU times: user 2.27 ms, sys: 1.13 ms, total: 3.4 ms\n",
      "Wall time: 140 ms\n"
     ]
    }
   ],
   "source": [
    "chosen=3\n",
    "gen_image(batch_xs[chosen]).show()\n",
    "grpc_request(\"mnist-classifier\",batch_xs[chosen].reshape((784)))"
   ]
  },
  {
   "cell_type": "code",
   "execution_count": null,
   "metadata": {
    "collapsed": true
   },
   "outputs": [],
   "source": []
  }
 ],
 "metadata": {
  "kernelspec": {
   "display_name": "Python 2",
   "language": "python",
   "name": "python2"
  },
  "language_info": {
   "codemirror_mode": {
    "name": "ipython",
    "version": 2
   },
   "file_extension": ".py",
   "mimetype": "text/x-python",
   "name": "python",
   "nbconvert_exporter": "python",
   "pygments_lexer": "ipython2",
   "version": "2.7.11"
  }
 },
 "nbformat": 4,
 "nbformat_minor": 1
}
