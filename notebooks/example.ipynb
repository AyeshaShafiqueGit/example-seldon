{
 "cells": [
  {
   "cell_type": "markdown",
   "metadata": {},
   "source": [
    "# kubeflow, seldon-core example - train and deploy ML on Kubernetes\n"
   ]
  },
  {
   "cell_type": "markdown",
   "metadata": {},
   "source": [
    "## Install Tools\n",
    "Deploy kubeflow and seldon-core with [ksonnet](https://ksonnet.io/)\n",
    "\n",
    " 1. Create a GCP Cluster\n",
    " 1. Setup kubeflow and seldon-core\n",
    "```bash\n",
    "ks init k8s_tools --api-spec=version:v1.8.0\n",
    "cd k8s_tools\n",
    "ks registry add kubeflow github.com/kubeflow/kubeflow/tree/master/kubeflow \n",
    "ks pkg install kubeflow/core \n",
    "ks pkg install kubeflow/tf-serving \n",
    "ks pkg install kubeflow/tf-job \n",
    "kubectl create clusterrolebinding default-admin --clusterrole=cluster-admin --user=cc@seldon.io\n",
    "ks generate core kubeflow-core --name=kubeflow-core\n",
    "ks registry add seldon-core github.com/SeldonIO/seldon-core/tree/master/seldon-core\n",
    "ks pkg install seldon-core/seldon-core\n",
    "ks generate seldon-core seldon-core --withApife=false --withRbac=true\n",
    "```\n"
   ]
  },
  {
   "cell_type": "markdown",
   "metadata": {},
   "source": [
    "## MNIST Example\n",
    "![MNIST](mnist.png \"MNIST Digits\")"
   ]
  },
  {
   "cell_type": "code",
   "execution_count": 4,
   "metadata": {
    "collapsed": true
   },
   "outputs": [],
   "source": [
    "%matplotlib inline\n",
    "from matplotlib import pyplot as plt\n",
    "import numpy as np\n",
    "def gen_image(arr):\n",
    "    two_d = (np.reshape(arr, (28, 28)) * 255).astype(np.uint8)\n",
    "    plt.imshow(two_d,cmap=plt.cm.gray_r, interpolation='nearest')\n",
    "    return plt"
   ]
  },
  {
   "cell_type": "code",
   "execution_count": 5,
   "metadata": {},
   "outputs": [
    {
     "name": "stdout",
     "output_type": "stream",
     "text": [
      "Extracting MNIST_data/train-images-idx3-ubyte.gz\n",
      "Extracting MNIST_data/train-labels-idx1-ubyte.gz\n",
      "Extracting MNIST_data/t10k-images-idx3-ubyte.gz\n",
      "Extracting MNIST_data/t10k-labels-idx1-ubyte.gz\n"
     ]
    },
    {
     "data": {
      "image/png": "[encoded data removed]",
      "text/plain": [
       "<matplotlib.figure.Figure at 0x7f715577ef90>"
      ]
     },
     "metadata": {},
     "output_type": "display_data"
    }
   ],
   "source": [
    "from tensorflow.examples.tutorials.mnist import input_data\n",
    "mnist = input_data.read_data_sets(\"MNIST_data/\", one_hot = True)\n",
    "batch_xs, batch_ys = mnist.train.next_batch(10)\n",
    "gen_image(batch_xs[1]).show()"
   ]
  },
  {
   "cell_type": "markdown",
   "metadata": {},
   "source": [
    "## Train model"
   ]
  },
  {
   "cell_type": "markdown",
   "metadata": {},
   "source": [
    "Tensorflow code to train a simple MNIST classifier.\n",
    "\n",
    "```python\n",
    "from tensorflow.examples.tutorials.mnist import input_data\n",
    "mnist = input_data.read_data_sets(\"MNIST_data/\", one_hot = True)\n",
    "import tensorflow as tf\n",
    "\n",
    "if __name__ == '__main__':\n",
    "    \n",
    "    x = tf.placeholder(tf.float32, [None,784], name=\"x\")\n",
    "\n",
    "    W = tf.Variable(tf.zeros([784,10]))\n",
    "    b = tf.Variable(tf.zeros([10]))\n",
    "\n",
    "    y = tf.nn.softmax(tf.matmul(x,W) + b, name=\"y\")\n",
    "\n",
    "    y_ = tf.placeholder(tf.float32, [None, 10])\n",
    "\n",
    "\n",
    "    cross_entropy = tf.reduce_mean(-tf.reduce_sum(y_ * tf.log(y), reduction_indices=[1]))\n",
    "\n",
    "    train_step = tf.train.GradientDescentOptimizer(0.5).minimize(cross_entropy)\n",
    "\n",
    "    init = tf.initialize_all_variables()\n",
    "\n",
    "    sess = tf.Session()\n",
    "    sess.run(init)\n",
    "\n",
    "    for i in range(1000):\n",
    "        batch_xs, batch_ys = mnist.train.next_batch(100)\n",
    "        sess.run(train_step, feed_dict={x: batch_xs, y_: batch_ys})\n",
    "\n",
    "    correct_prediction = tf.equal(tf.argmax(y,1), tf.argmax(y_,1))\n",
    "    accuracy = tf.reduce_mean(tf.cast(correct_prediction, tf.float32))\n",
    "    print(sess.run(accuracy, feed_dict = {x: mnist.test.images, y_:mnist.test.labels}))\n",
    "\n",
    "    saver = tf.train.Saver()\n",
    "\n",
    "    saver.save(sess, \"/data/deep_mnist_model\")\n",
    "```"
   ]
  },
  {
   "cell_type": "markdown",
   "metadata": {},
   "source": [
    "Create docker image for training. Work in progres to do this via Argo.\n",
    "```bash\n",
    "kubeflow-seldon-example/model/train\n",
    "docker build --force-rm=true -t seldonio/deepmnistclassifier_trainer:0.1 .\n",
    "```"
   ]
  },
  {
   "cell_type": "code",
   "execution_count": 57,
   "metadata": {},
   "outputs": [
    {
     "name": "stdout",
     "output_type": "stream",
     "text": [
      "\u001b[1;39m{\r\n",
      "  \u001b[0m\u001b[34;1m\"apiVersion\"\u001b[0m\u001b[1;39m: \u001b[0m\u001b[0;32m\"tensorflow.org/v1alpha1\"\u001b[0m\u001b[1;39m,\r\n",
      "  \u001b[0m\u001b[34;1m\"kind\"\u001b[0m\u001b[1;39m: \u001b[0m\u001b[0;32m\"TfJob\"\u001b[0m\u001b[1;39m,\r\n",
      "  \u001b[0m\u001b[34;1m\"metadata\"\u001b[0m\u001b[1;39m: \u001b[0m\u001b[1;39m{\r\n",
      "    \u001b[0m\u001b[34;1m\"name\"\u001b[0m\u001b[1;39m: \u001b[0m\u001b[0;32m\"mnist-train\"\u001b[0m\u001b[1;39m,\r\n",
      "    \u001b[0m\u001b[34;1m\"namespace\"\u001b[0m\u001b[1;39m: \u001b[0m\u001b[0;32m\"default\"\u001b[0m\u001b[1;39m\r\n",
      "  \u001b[1;39m}\u001b[0m\u001b[1;39m,\r\n",
      "  \u001b[0m\u001b[34;1m\"spec\"\u001b[0m\u001b[1;39m: \u001b[0m\u001b[1;39m{\r\n",
      "    \u001b[0m\u001b[34;1m\"replicaSpecs\"\u001b[0m\u001b[1;39m: \u001b[0m\u001b[1;39m[\r\n",
      "      \u001b[1;39m{\r\n",
      "        \u001b[0m\u001b[34;1m\"replicas\"\u001b[0m\u001b[1;39m: \u001b[0m\u001b[0;39m1\u001b[0m\u001b[1;39m,\r\n",
      "        \u001b[0m\u001b[34;1m\"template\"\u001b[0m\u001b[1;39m: \u001b[0m\u001b[1;39m{\r\n",
      "          \u001b[0m\u001b[34;1m\"spec\"\u001b[0m\u001b[1;39m: \u001b[0m\u001b[1;39m{\r\n",
      "            \u001b[0m\u001b[34;1m\"containers\"\u001b[0m\u001b[1;39m: \u001b[0m\u001b[1;39m[\r\n",
      "              \u001b[1;39m{\r\n",
      "                \u001b[0m\u001b[34;1m\"image\"\u001b[0m\u001b[1;39m: \u001b[0m\u001b[0;32m\"seldonio/deepmnistclassifier_trainer:0.1\"\u001b[0m\u001b[1;39m,\r\n",
      "                \u001b[0m\u001b[34;1m\"name\"\u001b[0m\u001b[1;39m: \u001b[0m\u001b[0;32m\"tensorflow\"\u001b[0m\u001b[1;39m,\r\n",
      "                \u001b[0m\u001b[34;1m\"volumeMounts\"\u001b[0m\u001b[1;39m: \u001b[0m\u001b[1;39m[\r\n",
      "                  \u001b[1;39m{\r\n",
      "                    \u001b[0m\u001b[34;1m\"mountPath\"\u001b[0m\u001b[1;39m: \u001b[0m\u001b[0;32m\"/data\"\u001b[0m\u001b[1;39m,\r\n",
      "                    \u001b[0m\u001b[34;1m\"name\"\u001b[0m\u001b[1;39m: \u001b[0m\u001b[0;32m\"persistent-storage\"\u001b[0m\u001b[1;39m\r\n",
      "                  \u001b[1;39m}\u001b[0m\u001b[1;39m\r\n",
      "                \u001b[1;39m]\u001b[0m\u001b[1;39m\r\n",
      "              \u001b[1;39m}\u001b[0m\u001b[1;39m\r\n",
      "            \u001b[1;39m]\u001b[0m\u001b[1;39m,\r\n",
      "            \u001b[0m\u001b[34;1m\"restartPolicy\"\u001b[0m\u001b[1;39m: \u001b[0m\u001b[0;32m\"OnFailure\"\u001b[0m\u001b[1;39m,\r\n",
      "            \u001b[0m\u001b[34;1m\"volumes\"\u001b[0m\u001b[1;39m: \u001b[0m\u001b[1;39m[\r\n",
      "              \u001b[1;39m{\r\n",
      "                \u001b[0m\u001b[34;1m\"name\"\u001b[0m\u001b[1;39m: \u001b[0m\u001b[0;32m\"persistent-storage\"\u001b[0m\u001b[1;39m,\r\n",
      "                \u001b[0m\u001b[34;1m\"persistentVolumeClaim\"\u001b[0m\u001b[1;39m: \u001b[0m\u001b[1;39m{\r\n",
      "                  \u001b[0m\u001b[34;1m\"claimName\"\u001b[0m\u001b[1;39m: \u001b[0m\u001b[0;32m\"ml-data\"\u001b[0m\u001b[1;39m\r\n",
      "                \u001b[1;39m}\u001b[0m\u001b[1;39m\r\n",
      "              \u001b[1;39m}\u001b[0m\u001b[1;39m\r\n",
      "            \u001b[1;39m]\u001b[0m\u001b[1;39m\r\n",
      "          \u001b[1;39m}\u001b[0m\u001b[1;39m\r\n",
      "        \u001b[1;39m}\u001b[0m\u001b[1;39m,\r\n",
      "        \u001b[0m\u001b[34;1m\"tfReplicaType\"\u001b[0m\u001b[1;39m: \u001b[0m\u001b[0;32m\"MASTER\"\u001b[0m\u001b[1;39m\r\n",
      "      \u001b[1;39m}\u001b[0m\u001b[1;39m\r\n",
      "    \u001b[1;39m]\u001b[0m\u001b[1;39m\r\n",
      "  \u001b[1;39m}\u001b[0m\u001b[1;39m\r\n",
      "\u001b[1;39m}\u001b[0m\r\n"
     ]
    }
   ],
   "source": [
    "!cat ../k8s_train/tfJob.json | jq ."
   ]
  },
  {
   "cell_type": "code",
   "execution_count": null,
   "metadata": {
    "collapsed": true
   },
   "outputs": [],
   "source": [
    "!kubectl apply ../k8s_train/tfJob.json"
   ]
  },
  {
   "cell_type": "markdown",
   "metadata": {},
   "source": [
    "## Runtime Serving\n",
    "Create runtime python module that respects seldon-core microservice template."
   ]
  },
  {
   "cell_type": "markdown",
   "metadata": {},
   "source": [
    "```python\n",
    "import tensorflow as tf\n",
    "\n",
    "class DeepMnist(object):\n",
    "    def __init__(self):\n",
    "        self.class_names = [\"class:{}\".format(str(i)) for i in range(10)]\n",
    "        self.sess = tf.Session()\n",
    "        saver = tf.train.import_meta_graph(\"/data/deep_mnist_model.meta\")\n",
    "        saver.restore(self.sess,tf.train.latest_checkpoint(\"/data/\"))\n",
    "\n",
    "        graph = tf.get_default_graph()\n",
    "        self.x = graph.get_tensor_by_name(\"x:0\")\n",
    "        self.y = graph.get_tensor_by_name(\"y:0\")\n",
    "\n",
    "    def predict(self,X,feature_names):\n",
    "        predictions = self.sess.run(self.y,feed_dict={self.x:X})\n",
    "        return predictions\n",
    "```"
   ]
  },
  {
   "cell_type": "markdown",
   "metadata": {},
   "source": [
    "Wrap model using seldon-core wrappers for python. Work in progress to do this via Argo.\n",
    "```bash\n",
    "cd kubeflow-seldon-example/model/runtime\n",
    "docker run -v  ${PWD}:/my_model seldonio/core-python-wrapper:0.6 /my_model DeepMnist 0.1 seldonio --image-name=deepmnistclassifier_runtime\n",
    "```"
   ]
  },
  {
   "cell_type": "code",
   "execution_count": 58,
   "metadata": {},
   "outputs": [
    {
     "name": "stdout",
     "output_type": "stream",
     "text": [
      "\u001b[1;39m{\r\n",
      "  \u001b[0m\u001b[34;1m\"apiVersion\"\u001b[0m\u001b[1;39m: \u001b[0m\u001b[0;32m\"machinelearning.seldon.io/v1alpha1\"\u001b[0m\u001b[1;39m,\r\n",
      "  \u001b[0m\u001b[34;1m\"kind\"\u001b[0m\u001b[1;39m: \u001b[0m\u001b[0;32m\"SeldonDeployment\"\u001b[0m\u001b[1;39m,\r\n",
      "  \u001b[0m\u001b[34;1m\"metadata\"\u001b[0m\u001b[1;39m: \u001b[0m\u001b[1;39m{\r\n",
      "    \u001b[0m\u001b[34;1m\"labels\"\u001b[0m\u001b[1;39m: \u001b[0m\u001b[1;39m{\r\n",
      "      \u001b[0m\u001b[34;1m\"app\"\u001b[0m\u001b[1;39m: \u001b[0m\u001b[0;32m\"seldon\"\u001b[0m\u001b[1;39m\r\n",
      "    \u001b[1;39m}\u001b[0m\u001b[1;39m,\r\n",
      "    \u001b[0m\u001b[34;1m\"name\"\u001b[0m\u001b[1;39m: \u001b[0m\u001b[0;32m\"mnist-classifier\"\u001b[0m\u001b[1;39m\r\n",
      "  \u001b[1;39m}\u001b[0m\u001b[1;39m,\r\n",
      "  \u001b[0m\u001b[34;1m\"spec\"\u001b[0m\u001b[1;39m: \u001b[0m\u001b[1;39m{\r\n",
      "    \u001b[0m\u001b[34;1m\"annotations\"\u001b[0m\u001b[1;39m: \u001b[0m\u001b[1;39m{\r\n",
      "      \u001b[0m\u001b[34;1m\"deployment_version\"\u001b[0m\u001b[1;39m: \u001b[0m\u001b[0;32m\"v1\"\u001b[0m\u001b[1;39m,\r\n",
      "      \u001b[0m\u001b[34;1m\"project_name\"\u001b[0m\u001b[1;39m: \u001b[0m\u001b[0;32m\"MNIST Example\"\u001b[0m\u001b[1;39m\r\n",
      "    \u001b[1;39m}\u001b[0m\u001b[1;39m,\r\n",
      "    \u001b[0m\u001b[34;1m\"name\"\u001b[0m\u001b[1;39m: \u001b[0m\u001b[0;32m\"mnist-classifier\"\u001b[0m\u001b[1;39m,\r\n",
      "    \u001b[0m\u001b[34;1m\"oauth_key\"\u001b[0m\u001b[1;39m: \u001b[0m\u001b[0;32m\"oauth-key\"\u001b[0m\u001b[1;39m,\r\n",
      "    \u001b[0m\u001b[34;1m\"oauth_secret\"\u001b[0m\u001b[1;39m: \u001b[0m\u001b[0;32m\"oauth-secret\"\u001b[0m\u001b[1;39m,\r\n",
      "    \u001b[0m\u001b[34;1m\"predictors\"\u001b[0m\u001b[1;39m: \u001b[0m\u001b[1;39m[\r\n",
      "      \u001b[1;39m{\r\n",
      "        \u001b[0m\u001b[34;1m\"annotations\"\u001b[0m\u001b[1;39m: \u001b[0m\u001b[1;39m{\r\n",
      "          \u001b[0m\u001b[34;1m\"predictor_version\"\u001b[0m\u001b[1;39m: \u001b[0m\u001b[0;32m\"v1\"\u001b[0m\u001b[1;39m\r\n",
      "        \u001b[1;39m}\u001b[0m\u001b[1;39m,\r\n",
      "        \u001b[0m\u001b[34;1m\"componentSpec\"\u001b[0m\u001b[1;39m: \u001b[0m\u001b[1;39m{\r\n",
      "          \u001b[0m\u001b[34;1m\"spec\"\u001b[0m\u001b[1;39m: \u001b[0m\u001b[1;39m{\r\n",
      "            \u001b[0m\u001b[34;1m\"containers\"\u001b[0m\u001b[1;39m: \u001b[0m\u001b[1;39m[\r\n",
      "              \u001b[1;39m{\r\n",
      "                \u001b[0m\u001b[34;1m\"image\"\u001b[0m\u001b[1;39m: \u001b[0m\u001b[0;32m\"seldonio/deepmnistclassifier_runtime:0.1\"\u001b[0m\u001b[1;39m,\r\n",
      "                \u001b[0m\u001b[34;1m\"imagePullPolicy\"\u001b[0m\u001b[1;39m: \u001b[0m\u001b[0;32m\"Always\"\u001b[0m\u001b[1;39m,\r\n",
      "                \u001b[0m\u001b[34;1m\"name\"\u001b[0m\u001b[1;39m: \u001b[0m\u001b[0;32m\"mnist-classifier\"\u001b[0m\u001b[1;39m,\r\n",
      "                \u001b[0m\u001b[34;1m\"volumeMounts\"\u001b[0m\u001b[1;39m: \u001b[0m\u001b[1;39m[\r\n",
      "                  \u001b[1;39m{\r\n",
      "                    \u001b[0m\u001b[34;1m\"mountPath\"\u001b[0m\u001b[1;39m: \u001b[0m\u001b[0;32m\"/data\"\u001b[0m\u001b[1;39m,\r\n",
      "                    \u001b[0m\u001b[34;1m\"name\"\u001b[0m\u001b[1;39m: \u001b[0m\u001b[0;32m\"persistent-storage\"\u001b[0m\u001b[1;39m\r\n",
      "                  \u001b[1;39m}\u001b[0m\u001b[1;39m\r\n",
      "                \u001b[1;39m]\u001b[0m\u001b[1;39m\r\n",
      "              \u001b[1;39m}\u001b[0m\u001b[1;39m\r\n",
      "            \u001b[1;39m]\u001b[0m\u001b[1;39m,\r\n",
      "            \u001b[0m\u001b[34;1m\"terminationGracePeriodSeconds\"\u001b[0m\u001b[1;39m: \u001b[0m\u001b[0;39m1\u001b[0m\u001b[1;39m,\r\n",
      "            \u001b[0m\u001b[34;1m\"volumes\"\u001b[0m\u001b[1;39m: \u001b[0m\u001b[1;39m[\r\n",
      "              \u001b[1;39m{\r\n",
      "                \u001b[0m\u001b[34;1m\"name\"\u001b[0m\u001b[1;39m: \u001b[0m\u001b[0;32m\"persistent-storage\"\u001b[0m\u001b[1;39m,\r\n",
      "                \u001b[0m\u001b[34;1m\"volumeSource\"\u001b[0m\u001b[1;39m: \u001b[0m\u001b[1;39m{\r\n",
      "                  \u001b[0m\u001b[34;1m\"persistentVolumeClaim\"\u001b[0m\u001b[1;39m: \u001b[0m\u001b[1;39m{\r\n",
      "                    \u001b[0m\u001b[34;1m\"claimName\"\u001b[0m\u001b[1;39m: \u001b[0m\u001b[0;32m\"ml-data\"\u001b[0m\u001b[1;39m\r\n",
      "                  \u001b[1;39m}\u001b[0m\u001b[1;39m\r\n",
      "                \u001b[1;39m}\u001b[0m\u001b[1;39m\r\n",
      "              \u001b[1;39m}\u001b[0m\u001b[1;39m\r\n",
      "            \u001b[1;39m]\u001b[0m\u001b[1;39m\r\n",
      "          \u001b[1;39m}\u001b[0m\u001b[1;39m\r\n",
      "        \u001b[1;39m}\u001b[0m\u001b[1;39m,\r\n",
      "        \u001b[0m\u001b[34;1m\"graph\"\u001b[0m\u001b[1;39m: \u001b[0m\u001b[1;39m{\r\n",
      "          \u001b[0m\u001b[34;1m\"children\"\u001b[0m\u001b[1;39m: \u001b[0m\u001b[1;39m[]\u001b[0m\u001b[1;39m,\r\n",
      "          \u001b[0m\u001b[34;1m\"endpoint\"\u001b[0m\u001b[1;39m: \u001b[0m\u001b[1;39m{\r\n",
      "            \u001b[0m\u001b[34;1m\"type\"\u001b[0m\u001b[1;39m: \u001b[0m\u001b[0;32m\"REST\"\u001b[0m\u001b[1;39m\r\n",
      "          \u001b[1;39m}\u001b[0m\u001b[1;39m,\r\n",
      "          \u001b[0m\u001b[34;1m\"name\"\u001b[0m\u001b[1;39m: \u001b[0m\u001b[0;32m\"mnist-classifier\"\u001b[0m\u001b[1;39m,\r\n",
      "          \u001b[0m\u001b[34;1m\"type\"\u001b[0m\u001b[1;39m: \u001b[0m\u001b[0;32m\"MODEL\"\u001b[0m\u001b[1;39m\r\n",
      "        \u001b[1;39m}\u001b[0m\u001b[1;39m,\r\n",
      "        \u001b[0m\u001b[34;1m\"name\"\u001b[0m\u001b[1;39m: \u001b[0m\u001b[0;32m\"mnist-classifier\"\u001b[0m\u001b[1;39m,\r\n",
      "        \u001b[0m\u001b[34;1m\"replicas\"\u001b[0m\u001b[1;39m: \u001b[0m\u001b[0;39m1\u001b[0m\u001b[1;39m\r\n",
      "      \u001b[1;39m}\u001b[0m\u001b[1;39m\r\n",
      "    \u001b[1;39m]\u001b[0m\u001b[1;39m\r\n",
      "  \u001b[1;39m}\u001b[0m\u001b[1;39m\r\n",
      "\u001b[1;39m}\u001b[0m\r\n"
     ]
    }
   ],
   "source": [
    "!cat ../k8s_serving/serving_model.json | jq ."
   ]
  },
  {
   "cell_type": "markdown",
   "metadata": {},
   "source": [
    "## Get predictions"
   ]
  },
  {
   "cell_type": "markdown",
   "metadata": {},
   "source": [
    "Illustration of both REST and gRPC requests. "
   ]
  },
  {
   "cell_type": "code",
   "execution_count": 8,
   "metadata": {},
   "outputs": [],
   "source": [
    "import requests\n",
    "from requests.auth import HTTPBasicAuth\n",
    "import commands\n",
    "from random import randint,random\n",
    "\n",
    "AMBASSADOR_API_IP=commands.getoutput(\"kubectl get svc ambassador -o jsonpath='{.status.loadBalancer.ingress[0].ip}'\")\n",
    "\n",
    "def rest_request(deploymentName,data):\n",
    "    payload = {\"data\":{\"ndarray\":data.tolist()}}\n",
    "    response = requests.post(\n",
    "                \"http://\"+AMBASSADOR_API_IP+\"/seldon/\"+deploymentName+\"/api/v0.1/predictions\",\n",
    "                json=payload)\n",
    "    print response.status_code\n",
    "    print response.text   \n",
    "    \n",
    "    \n",
    "def rest_request_auth(deploymentName,data,username,password):\n",
    "    payload = {\"data\":{\"ndarray\":data.tolist()}}\n",
    "    response = requests.post(\n",
    "                \"http://\"+AMBASSADOR_API_IP+\"/seldon/\"+deploymentName+\"/api/v0.1/predictions\",\n",
    "                json=payload,\n",
    "                auth=HTTPBasicAuth(username, password))\n",
    "    print response.status_code\n",
    "    print response.text   \n"
   ]
  },
  {
   "cell_type": "markdown",
   "metadata": {},
   "source": [
    "#### REST Request"
   ]
  },
  {
   "cell_type": "code",
   "execution_count": 15,
   "metadata": {},
   "outputs": [
    {
     "data": {
      "image/png": "[encoded data removed]",
      "text/plain": [
       "<matplotlib.figure.Figure at 0x7f713011d050>"
      ]
     },
     "metadata": {},
     "output_type": "display_data"
    },
    {
     "name": "stdout",
     "output_type": "stream",
     "text": [
      "200\n",
      "{\n",
      "  \"meta\": {\n",
      "    \"puid\": \"oqrebl3bn1av6pll5ph11mok55\",\n",
      "    \"tags\": {\n",
      "    },\n",
      "    \"routing\": {\n",
      "    }\n",
      "  },\n",
      "  \"data\": {\n",
      "    \"names\": [\"class:0\", \"class:1\", \"class:2\", \"class:3\", \"class:4\", \"class:5\", \"class:6\", \"class:7\", \"class:8\", \"class:9\"],\n",
      "    \"ndarray\": [[0.7835882306098938, 3.48740968547645E-7, 2.3308997333515435E-4, 7.149219891289249E-5, 2.730857431743061E-6, 0.2135552167892456, 4.383403938845731E-5, 4.8035939670398875E-8, 0.0025046844966709614, 3.2446578757117095E-7]]\n",
      "  }\n",
      "}\n"
     ]
    }
   ],
   "source": [
    "chosen=1\n",
    "gen_image(batch_xs[chosen]).show()\n",
    "rest_request(\"mnist-classifier\",batch_xs[chosen].reshape((1,784)))"
   ]
  },
  {
   "cell_type": "markdown",
   "metadata": {},
   "source": [
    "## Adding Authentication\n",
    "We will add the example authentication from the Ambassador tutorial which show basic authentication. Work in progress to add oauth2 or GCP IAP."
   ]
  },
  {
   "cell_type": "code",
   "execution_count": 59,
   "metadata": {},
   "outputs": [
    {
     "name": "stdout",
     "output_type": "stream",
     "text": [
      "service \"example-auth\" created\n",
      "deployment \"example-auth\" created\n"
     ]
    }
   ],
   "source": [
    "!kubectl apply -f ../k8s_serving/ambassador-auth-service-setup.yaml"
   ]
  },
  {
   "cell_type": "markdown",
   "metadata": {},
   "source": [
    "** Need to wait until running before adding Ambassador config **"
   ]
  },
  {
   "cell_type": "code",
   "execution_count": 61,
   "metadata": {},
   "outputs": [
    {
     "name": "stdout",
     "output_type": "stream",
     "text": [
      "NAME                                                READY     STATUS    RESTARTS   AGE\r\n",
      "ambassador-d96567548-hlvzl                          2/2       Running   0          20h\r\n",
      "ambassador-d96567548-s7bsp                          2/2       Running   0          20h\r\n",
      "ambassador-d96567548-xql8k                          2/2       Running   0          20h\r\n",
      "example-auth-6f4877965f-989x9                       1/1       Running   0          1m\r\n",
      "mnist-classifier-mnist-classifier-c677c9d69-9dfgs   2/2       Running   0          17h\r\n",
      "redis-6668b544f4-nfsgz                              1/1       Running   0          18h\r\n",
      "seldon-cluster-manager-559894469d-wkp7c             1/1       Running   0          18h\r\n",
      "tf-hub-0                                            1/1       Running   0          20h\r\n",
      "tf-job-dashboard-59fcb66998-8gjsf                   1/1       Running   0          20h\r\n",
      "tf-job-operator-55b9c748b8-g8qkp                    1/1       Running   0          20h\r\n"
     ]
    }
   ],
   "source": [
    "!kubectl get pods"
   ]
  },
  {
   "cell_type": "code",
   "execution_count": 62,
   "metadata": {},
   "outputs": [
    {
     "name": "stdout",
     "output_type": "stream",
     "text": [
      "service \"example-auth\" configured\r\n"
     ]
    }
   ],
   "source": [
    "!kubectl apply -f ../k8s_serving/ambassador-auth-service-config.yaml"
   ]
  },
  {
   "cell_type": "markdown",
   "metadata": {},
   "source": [
    "Show failed request when auth is running"
   ]
  },
  {
   "cell_type": "code",
   "execution_count": 63,
   "metadata": {},
   "outputs": [
    {
     "name": "stdout",
     "output_type": "stream",
     "text": [
      "401\n",
      "\n"
     ]
    }
   ],
   "source": [
    "rest_request(\"mnist-classifier\",batch_xs[1].reshape((1,784)))"
   ]
  },
  {
   "cell_type": "markdown",
   "metadata": {},
   "source": [
    "Show successful request with auth"
   ]
  },
  {
   "cell_type": "code",
   "execution_count": 64,
   "metadata": {},
   "outputs": [
    {
     "name": "stdout",
     "output_type": "stream",
     "text": [
      "200\n",
      "{\n",
      "  \"meta\": {\n",
      "    \"puid\": \"uso949ko510rnef0p0spl1n3rs\",\n",
      "    \"tags\": {\n",
      "    },\n",
      "    \"routing\": {\n",
      "    }\n",
      "  },\n",
      "  \"data\": {\n",
      "    \"names\": [\"class:0\", \"class:1\", \"class:2\", \"class:3\", \"class:4\", \"class:5\", \"class:6\", \"class:7\", \"class:8\", \"class:9\"],\n",
      "    \"ndarray\": [[0.9193830490112305, 1.3326256764756295E-9, 0.001548641361296177, 2.809062134474516E-4, 1.2955564307048917E-4, 0.043323032557964325, 1.1617955897236243E-4, 2.0488105292315595E-5, 0.032700005918741226, 0.0024981447495520115]]\n",
      "  }\n",
      "}\n"
     ]
    }
   ],
   "source": [
    "rest_request_auth(\"mnist-classifier\",batch_xs[1].reshape((1,784)),\"username\",\"password\")"
   ]
  },
  {
   "cell_type": "markdown",
   "metadata": {},
   "source": [
    "Remove auth"
   ]
  },
  {
   "cell_type": "code",
   "execution_count": 66,
   "metadata": {},
   "outputs": [
    {
     "name": "stdout",
     "output_type": "stream",
     "text": [
      "service \"example-auth\" deleted\n",
      "deployment \"example-auth\" deleted\n"
     ]
    }
   ],
   "source": [
    "!kubectl delete -f ../k8s_serving/ambassador-auth-service-setup.yaml"
   ]
  },
  {
   "cell_type": "code",
   "execution_count": null,
   "metadata": {
    "collapsed": true
   },
   "outputs": [],
   "source": []
  }
 ],
 "metadata": {
  "kernelspec": {
   "display_name": "Python 2",
   "language": "python",
   "name": "python2"
  },
  "language_info": {
   "codemirror_mode": {
    "name": "ipython",
    "version": 2
   },
   "file_extension": ".py",
   "mimetype": "text/x-python",
   "name": "python",
   "nbconvert_exporter": "python",
   "pygments_lexer": "ipython2",
   "version": "2.7.14"
  }
 },
 "nbformat": 4,
 "nbformat_minor": 1
}
