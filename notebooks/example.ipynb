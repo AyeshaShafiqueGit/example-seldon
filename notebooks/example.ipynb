{
 "cells": [
  {
   "cell_type": "markdown",
   "metadata": {},
   "source": [
    "# End-To-End Train and Deploy Machine Learning Model on Kubernetes\n",
    "\n",
    "Using:\n",
    "\n",
    " * kubeflow\n",
    " * seldon-core\n",
    " \n",
    " \n",
    "Follow the [README.md] to setup, train and deploy your model. This notebook will show\n",
    " \n",
    "The example will be the MNIST handwriiten digit classification task.\n",
    "\n",
    "![MNIST](mnist.png \"MNIST Digits\")"
   ]
  },
  {
   "cell_type": "markdown",
   "metadata": {},
   "source": [
    "## 5. Data Science\n",
    "You will need Tensorflow installed to run this section."
   ]
  },
  {
   "cell_type": "code",
   "execution_count": 72,
   "metadata": {
    "collapsed": true
   },
   "outputs": [],
   "source": [
    "%matplotlib inline\n",
    "from matplotlib import pyplot as plt\n",
    "import numpy as np\n",
    "def gen_image(arr):\n",
    "    two_d = (np.reshape(arr, (28, 28)) * 255).astype(np.uint8)\n",
    "    plt.imshow(two_d,cmap=plt.cm.gray_r, interpolation='nearest')\n",
    "    return plt"
   ]
  },
  {
   "cell_type": "code",
   "execution_count": 73,
   "metadata": {
    "collapsed": false
   },
   "outputs": [
    {
     "name": "stdout",
     "output_type": "stream",
     "text": [
      "Extracting MNIST_data/train-images-idx3-ubyte.gz\n",
      "Extracting MNIST_data/train-labels-idx1-ubyte.gz\n",
      "Extracting MNIST_data/t10k-images-idx3-ubyte.gz\n",
      "Extracting MNIST_data/t10k-labels-idx1-ubyte.gz\n"
     ]
    },
    {
     "data": {
      "image/png": "[encoded data removed]",
      "text/plain": [
       "<matplotlib.figure.Figure at 0x7f56a0384e10>"
      ]
     },
     "metadata": {},
     "output_type": "display_data"
    }
   ],
   "source": [
    "from tensorflow.examples.tutorials.mnist import input_data\n",
    "mnist = input_data.read_data_sets(\"MNIST_data/\", one_hot = True)\n",
    "batch_xs, batch_ys = mnist.train.next_batch(10)\n",
    "gen_image(batch_xs[1]).show()"
   ]
  },
  {
   "cell_type": "code",
   "execution_count": 74,
   "metadata": {
    "collapsed": false
   },
   "outputs": [
    {
     "name": "stdout",
     "output_type": "stream",
     "text": [
      "Extracting MNIST_data/train-images-idx3-ubyte.gz\n",
      "Extracting MNIST_data/train-labels-idx1-ubyte.gz\n",
      "Extracting MNIST_data/t10k-images-idx3-ubyte.gz\n",
      "Extracting MNIST_data/t10k-labels-idx1-ubyte.gz\n",
      "WARNING:tensorflow:From <ipython-input-74-f38933426b72>:13: initialize_all_variables (from tensorflow.python.ops.variables) is deprecated and will be removed after 2017-03-02.\n",
      "Instructions for updating:\n",
      "Use `tf.global_variables_initializer` instead.\n",
      "0.9197\n"
     ]
    }
   ],
   "source": [
    "from tensorflow.examples.tutorials.mnist import input_data\n",
    "mnist = input_data.read_data_sets(\"MNIST_data/\", one_hot = True)\n",
    "import tensorflow as tf\n",
    "\n",
    "x = tf.placeholder(tf.float32, [None,784], name=\"x\")\n",
    "W = tf.Variable(tf.zeros([784,10]))\n",
    "b = tf.Variable(tf.zeros([10]))\n",
    "y = tf.nn.softmax(tf.matmul(x,W) + b, name=\"y\")\n",
    "y_ = tf.placeholder(tf.float32, [None, 10])\n",
    "\n",
    "cross_entropy = tf.reduce_mean(-tf.reduce_sum(y_ * tf.log(y), reduction_indices=[1]))\n",
    "train_step = tf.train.GradientDescentOptimizer(0.5).minimize(cross_entropy)\n",
    "init = tf.initialize_all_variables()\n",
    "sess = tf.Session()\n",
    "sess.run(init)\n",
    "\n",
    "for i in range(1000):\n",
    "    batch_xs, batch_ys = mnist.train.next_batch(100)\n",
    "    sess.run(train_step, feed_dict={x: batch_xs, y_: batch_ys})\n",
    "\n",
    "correct_prediction = tf.equal(tf.argmax(y,1), tf.argmax(y_,1))\n",
    "accuracy = tf.reduce_mean(tf.cast(correct_prediction, tf.float32))\n",
    "print(sess.run(accuracy, feed_dict = {x: mnist.test.images, y_:mnist.test.labels}))\n",
    "\n"
   ]
  },
  {
   "cell_type": "markdown",
   "metadata": {},
   "source": [
    "# Dockerize and Train Model"
   ]
  },
  {
   "cell_type": "code",
   "execution_count": 25,
   "metadata": {
    "collapsed": false
   },
   "outputs": [
    {
     "name": "stdout",
     "output_type": "stream",
     "text": [
      "Name:             kubeflow-train-2x2pq\r\n",
      "Namespace:        default\r\n",
      "ServiceAccount:   default\r\n",
      "Status:           Pending\r\n",
      "Created:          Fri Feb 09 15:37:30 +0000 (1 second ago)\r\n",
      "Parameters:       \r\n",
      "  version:        0.1\r\n",
      "  github-user:    SeldonIO\r\n",
      "  docker-user:    seldonio\r\n",
      "  tfjob-version-hack: 1\r\n"
     ]
    }
   ],
   "source": [
    "!argo submit ../workflows/training-tf-mnist-workflow.yaml"
   ]
  },
  {
   "cell_type": "code",
   "execution_count": 26,
   "metadata": {
    "collapsed": false
   },
   "outputs": [
    {
     "name": "stdout",
     "output_type": "stream",
     "text": [
      "NAME                   STATUS    AGE    DURATION\r\n",
      "kubeflow-train-2x2pq   Running   15s    15s \r\n"
     ]
    }
   ],
   "source": [
    "!argo list"
   ]
  },
  {
   "cell_type": "code",
   "execution_count": 30,
   "metadata": {
    "collapsed": false
   },
   "outputs": [
    {
     "name": "stdout",
     "output_type": "stream",
     "text": [
      "Name:             kubeflow-train-2x2pq\r\n",
      "Namespace:        default\r\n",
      "ServiceAccount:   default\r\n",
      "Status:           Succeeded\r\n",
      "Created:          Fri Feb 09 15:37:30 +0000 (3 minutes ago)\r\n",
      "Started:          Fri Feb 09 15:37:30 +0000 (3 minutes ago)\r\n",
      "Finished:         Fri Feb 09 15:40:54 +0000 (23 seconds ago)\r\n",
      "Duration:         3 minutes 24 seconds\r\n",
      "Parameters:       \r\n",
      "  version:        0.1\r\n",
      "  github-user:    SeldonIO\r\n",
      "  docker-user:    seldonio\r\n",
      "  tfjob-version-hack: 1\r\n",
      "\r\n",
      "\u001b[39mSTEP\u001b[0m                     PODNAME                          DURATION  MESSAGE\r\n",
      " \u001b[32m✔\u001b[0m kubeflow-train-2x2pq                                             \r\n",
      " ├---\u001b[32m✔\u001b[0m build-push        kubeflow-train-2x2pq-4048894882  1m        \r\n",
      " └---\u001b[32m✔\u001b[0m train             kubeflow-train-2x2pq-1479042668  1m        \r\n"
     ]
    }
   ],
   "source": [
    "!argo get kubeflow-train-2x2pq"
   ]
  },
  {
   "cell_type": "markdown",
   "metadata": {},
   "source": [
    "Delete argo job to free persistent disk usage."
   ]
  },
  {
   "cell_type": "code",
   "execution_count": null,
   "metadata": {
    "collapsed": true
   },
   "outputs": [],
   "source": [
    "!argo delete --all"
   ]
  },
  {
   "cell_type": "markdown",
   "metadata": {},
   "source": [
    "# Dockerize and Deploy Runtime Model"
   ]
  },
  {
   "cell_type": "code",
   "execution_count": 32,
   "metadata": {
    "collapsed": false
   },
   "outputs": [
    {
     "name": "stdout",
     "output_type": "stream",
     "text": [
      "Name:             seldon-package-db5m7\r\n",
      "Namespace:        default\r\n",
      "ServiceAccount:   default\r\n",
      "Status:           Pending\r\n",
      "Created:          Fri Feb 09 15:42:12 +0000 (now)\r\n",
      "Parameters:       \r\n",
      "  version:        0.1\r\n"
     ]
    }
   ],
   "source": [
    "!argo submit ../workflows/serving-tf-mnist-workflow.yaml"
   ]
  },
  {
   "cell_type": "code",
   "execution_count": 34,
   "metadata": {
    "collapsed": false
   },
   "outputs": [
    {
     "name": "stdout",
     "output_type": "stream",
     "text": [
      "NAME                   STATUS      AGE   DURATION\r\n",
      "seldon-package-db5m7   Running     1m    1m \r\n",
      "kubeflow-train-2x2pq   Succeeded   5m    3m \r\n"
     ]
    }
   ],
   "source": [
    "!argo list"
   ]
  },
  {
   "cell_type": "markdown",
   "metadata": {},
   "source": [
    "## Get predictions\n",
    "**Ensure you have port forwarded the ambassador reverse proxy**\n",
    "\n",
    "```bash\n",
    "kubectl port-forward $(kubectl get pods -n default -l service=ambassador -o jsonpath='{.items[0].metadata.name}') -n default 8002:80\n",
    "```"
   ]
  },
  {
   "cell_type": "code",
   "execution_count": 150,
   "metadata": {
    "collapsed": true
   },
   "outputs": [],
   "source": [
    "import requests\n",
    "from requests.auth import HTTPBasicAuth\n",
    "import commands\n",
    "from random import randint,random\n",
    "from proto import prediction_pb2\n",
    "from proto import prediction_pb2_grpc\n",
    "import grpc\n",
    "import json\n",
    "\n",
    "#AMBASSADOR_API_IP=commands.getoutput(\"kubectl get svc ambassador -o jsonpath='{.status.loadBalancer.ingress[0].ip}'\")\n",
    "AMBASSADOR_API_IP=\"localhost:8002\"\n",
    "\n",
    "def rest_request(deploymentName,request):\n",
    "    response = requests.post(\n",
    "                \"http://\"+AMBASSADOR_API_IP+\"/seldon/\"+deploymentName+\"/api/v0.1/predictions\",\n",
    "                json=request)\n",
    "    return response.json()   \n",
    "    \n",
    "def rest_request_auth(deploymentName,data,username,password):\n",
    "    payload = {\"data\":{\"ndarray\":data.tolist()}}\n",
    "    response = requests.post(\n",
    "                \"http://\"+AMBASSADOR_API_IP+\"/seldon/\"+deploymentName+\"/api/v0.1/predictions\",\n",
    "                json=payload,\n",
    "                auth=HTTPBasicAuth(username, password))\n",
    "    print response.status_code\n",
    "    return response.json()   \n",
    "\n",
    "def grpc_request(deploymentName,data):\n",
    "    datadef = prediction_pb2.DefaultData(\n",
    "            names = [\"a\",\"b\"],\n",
    "            tensor = prediction_pb2.Tensor(\n",
    "                shape = [1,784],\n",
    "                values = data\n",
    "                )\n",
    "            )\n",
    "    request = prediction_pb2.SeldonMessage(data = datadef)\n",
    "    channel = grpc.insecure_channel(AMBASSADOR_API_IP)\n",
    "    stub = prediction_pb2_grpc.SeldonStub(channel)\n",
    "    metadata = [('seldon',deploymentName)]\n",
    "    response = stub.Predict(request=request,metadata=metadata)\n",
    "    print response\n",
    "\n",
    "def send_feedback_rest(deploymentName,request,response,reward):\n",
    "    feedback = {\n",
    "        \"request\": request,\n",
    "        \"response\": response,\n",
    "        \"reward\": reward\n",
    "    }\n",
    "    ret = requests.post(\n",
    "         \"http://\"+AMBASSADOR_API_IP+\"/seldon/\"+deploymentName+\"/api/v0.1/feedback\",\n",
    "        json=feedback)\n",
    "    return ret.text\n"
   ]
  },
  {
   "cell_type": "markdown",
   "metadata": {},
   "source": [
    "#### REST Request"
   ]
  },
  {
   "cell_type": "code",
   "execution_count": 141,
   "metadata": {
    "collapsed": false
   },
   "outputs": [
    {
     "data": {
      "image/png": "[encoded data removed]",
      "text/plain": [
       "<matplotlib.figure.Figure at 0x7f5617d5c590>"
      ]
     },
     "metadata": {},
     "output_type": "display_data"
    },
    {
     "name": "stdout",
     "output_type": "stream",
     "text": [
      "200\n",
      "{\n",
      "  \"meta\": {\n",
      "    \"puid\": \"h0hcuffcto2fg9br8381i8rq8f\", \n",
      "    \"routing\": {\n",
      "      \"eg-router\": 0\n",
      "    }, \n",
      "    \"tags\": {}\n",
      "  }, \n",
      "  \"data\": {\n",
      "    \"names\": [\n",
      "      \"class:0\", \n",
      "      \"class:1\", \n",
      "      \"class:2\", \n",
      "      \"class:3\", \n",
      "      \"class:4\", \n",
      "      \"class:5\", \n",
      "      \"class:6\", \n",
      "      \"class:7\", \n",
      "      \"class:8\", \n",
      "      \"class:9\"\n",
      "    ], \n",
      "    \"ndarray\": [\n",
      "      [\n",
      "        0.002514161868020892, \n",
      "        0.0008220432209782302, \n",
      "        0.005703053902834654, \n",
      "        0.9494014978408813, \n",
      "        7.155554158089217e-06, \n",
      "        0.03773880377411842, \n",
      "        0.0016501144273206592, \n",
      "        4.662369246943854e-05, \n",
      "        0.001977258827537298, \n",
      "        0.00013925464008934796\n",
      "      ]\n",
      "    ]\n",
      "  }\n",
      "}\n"
     ]
    }
   ],
   "source": [
    "batch_xs, batch_ys = mnist.train.next_batch(1)\n",
    "chosen=0\n",
    "gen_image(batch_xs[chosen]).show()\n",
    "data = batch_xs[chosen].reshape((1,784))\n",
    "request = {\"data\":{\"ndarray\":data.tolist()}}\n",
    "predictions = rest_request(\"mnist-classifier\",request)\n",
    "print(json.dumps(predictions, indent=2))"
   ]
  },
  {
   "cell_type": "markdown",
   "metadata": {},
   "source": [
    "gRPC Request"
   ]
  },
  {
   "cell_type": "code",
   "execution_count": 106,
   "metadata": {
    "collapsed": false
   },
   "outputs": [
    {
     "data": {
      "image/png": "[encoded data removed]",
      "text/plain": [
       "<matplotlib.figure.Figure at 0x7f5618fd33d0>"
      ]
     },
     "metadata": {},
     "output_type": "display_data"
    },
    {
     "name": "stdout",
     "output_type": "stream",
     "text": [
      "meta {\n",
      "  puid: \"fcq27704kikosrqsarlna0f5k7\"\n",
      "  routing {\n",
      "    key: \"random-ab-test\"\n",
      "  }\n",
      "}\n",
      "data {\n",
      "  names: \"class:0\"\n",
      "  names: \"class:1\"\n",
      "  names: \"class:2\"\n",
      "  names: \"class:3\"\n",
      "  names: \"class:4\"\n",
      "  names: \"class:5\"\n",
      "  names: \"class:6\"\n",
      "  names: \"class:7\"\n",
      "  names: \"class:8\"\n",
      "  names: \"class:9\"\n",
      "  tensor {\n",
      "    shape: 1\n",
      "    shape: 10\n",
      "    values: 0.973258018494\n",
      "    values: 3.98354700337e-08\n",
      "    values: 1.79128198852e-06\n",
      "    values: 0.000249111471931\n",
      "    values: 1.06307913583e-08\n",
      "    values: 0.0215182770044\n",
      "    values: 4.56113048131e-06\n",
      "    values: 0.00484734075144\n",
      "    values: 7.99964982434e-05\n",
      "    values: 4.09254826081e-05\n",
      "  }\n",
      "}\n",
      "\n"
     ]
    }
   ],
   "source": [
    "chosen=9\n",
    "gen_image(batch_xs[chosen]).show()\n",
    "grpc_request(\"mnist-classifier\",batch_xs[chosen].reshape((784)))"
   ]
  },
  {
   "cell_type": "markdown",
   "metadata": {},
   "source": [
    "# Next Steps"
   ]
  },
  {
   "cell_type": "markdown",
   "metadata": {},
   "source": [
    "## AB Test\n",
    " Run an AB Test between Tensorflow model and SKLearn Random Forest.\n",
    " "
   ]
  },
  {
   "cell_type": "code",
   "execution_count": 101,
   "metadata": {
    "collapsed": false
   },
   "outputs": [
    {
     "name": "stdout",
     "output_type": "stream",
     "text": [
      "{\r\n",
      "    \u001b[34;01m\"apiVersion\"\u001b[39;49;00m: \u001b[33m\"machinelearning.seldon.io/v1alpha1\"\u001b[39;49;00m,\r\n",
      "    \u001b[34;01m\"kind\"\u001b[39;49;00m: \u001b[33m\"SeldonDeployment\"\u001b[39;49;00m,\r\n",
      "    \u001b[34;01m\"metadata\"\u001b[39;49;00m: {\r\n",
      "\t\u001b[34;01m\"labels\"\u001b[39;49;00m: {\r\n",
      "\t    \u001b[34;01m\"app\"\u001b[39;49;00m: \u001b[33m\"seldon\"\u001b[39;49;00m\r\n",
      "\t},\r\n",
      "\t\u001b[34;01m\"name\"\u001b[39;49;00m: \u001b[33m\"mnist-classifier\"\u001b[39;49;00m\r\n",
      "    },\r\n",
      "    \u001b[34;01m\"spec\"\u001b[39;49;00m: {\r\n",
      "\t\u001b[34;01m\"annotations\"\u001b[39;49;00m: {\r\n",
      "\t    \u001b[34;01m\"project_name\"\u001b[39;49;00m: \u001b[33m\"kubeflow-seldon\"\u001b[39;49;00m,\r\n",
      "\t    \u001b[34;01m\"deployment_version\"\u001b[39;49;00m: \u001b[33m\"v1\"\u001b[39;49;00m\r\n",
      "\t},\r\n",
      "\t\u001b[34;01m\"name\"\u001b[39;49;00m: \u001b[33m\"mnist-classifier\"\u001b[39;49;00m,\r\n",
      "\t\u001b[34;01m\"predictors\"\u001b[39;49;00m: [\r\n",
      "\t    {\r\n",
      "\t\t\u001b[34;01m\"componentSpec\"\u001b[39;49;00m: {\r\n",
      "\t\t    \u001b[34;01m\"spec\"\u001b[39;49;00m: {\r\n",
      "\t\t\t\u001b[34;01m\"containers\"\u001b[39;49;00m: [\r\n",
      "\t\t\t    {\r\n",
      "                                \u001b[34;01m\"image\"\u001b[39;49;00m: \u001b[33m\"seldonio/deepmnistclassifier_runtime:0.1\"\u001b[39;49;00m,\r\n",
      "\t\t\t\t\u001b[34;01m\"name\"\u001b[39;49;00m: \u001b[33m\"tf-model\"\u001b[39;49;00m,\r\n",
      "                                \u001b[34;01m\"volumeMounts\"\u001b[39;49;00m: [\r\n",
      "                                    {\r\n",
      "                                        \u001b[34;01m\"mountPath\"\u001b[39;49;00m: \u001b[33m\"/data\"\u001b[39;49;00m,\r\n",
      "                                        \u001b[34;01m\"name\"\u001b[39;49;00m: \u001b[33m\"persistent-storage\"\u001b[39;49;00m\r\n",
      "                                    }\r\n",
      "                                ]\r\n",
      "\t\t\t    },\r\n",
      "\t\t\t    {\r\n",
      "                                \u001b[34;01m\"image\"\u001b[39;49;00m: \u001b[33m\"seldonio/skmnistclassifier_runtime:0.1\"\u001b[39;49;00m,\r\n",
      "\t\t\t\t\u001b[34;01m\"name\"\u001b[39;49;00m: \u001b[33m\"sk-model\"\u001b[39;49;00m,\r\n",
      "                                \u001b[34;01m\"volumeMounts\"\u001b[39;49;00m: [\r\n",
      "                                    {\r\n",
      "                                        \u001b[34;01m\"mountPath\"\u001b[39;49;00m: \u001b[33m\"/data\"\u001b[39;49;00m,\r\n",
      "                                        \u001b[34;01m\"name\"\u001b[39;49;00m: \u001b[33m\"persistent-storage\"\u001b[39;49;00m\r\n",
      "                                    }\r\n",
      "                                ]\r\n",
      "\t\t\t    }\r\n",
      "\t\t\t],\r\n",
      "                        \u001b[34;01m\"volumes\"\u001b[39;49;00m: [\r\n",
      "                            {\r\n",
      "                                \u001b[34;01m\"name\"\u001b[39;49;00m: \u001b[33m\"persistent-storage\"\u001b[39;49;00m,\r\n",
      "\t\t\t\t\u001b[34;01m\"volumeSource\"\u001b[39;49;00m : {\r\n",
      "                                    \u001b[34;01m\"persistentVolumeClaim\"\u001b[39;49;00m: {\r\n",
      "\t\t\t\t\t\u001b[34;01m\"claimName\"\u001b[39;49;00m: \u001b[33m\"ml-data\"\u001b[39;49;00m\r\n",
      "                                    }\r\n",
      "\t\t\t\t}\r\n",
      "                            }\r\n",
      "                        ]\r\n",
      "\t\t    }\r\n",
      "\t\t},\r\n",
      "\t\t\u001b[34;01m\"name\"\u001b[39;49;00m: \u001b[33m\"ab-test\"\u001b[39;49;00m,\r\n",
      "\t\t\u001b[34;01m\"replicas\"\u001b[39;49;00m: \u001b[34m1\u001b[39;49;00m,\r\n",
      "\t\t\u001b[34;01m\"annotations\"\u001b[39;49;00m: {\r\n",
      "\t\t    \u001b[34;01m\"predictor_version\"\u001b[39;49;00m: \u001b[33m\"v1\"\u001b[39;49;00m\r\n",
      "\t\t},\r\n",
      "\t\t\u001b[34;01m\"graph\"\u001b[39;49;00m: {\r\n",
      "\t\t    \u001b[34;01m\"name\"\u001b[39;49;00m: \u001b[33m\"random-ab-test\"\u001b[39;49;00m,\r\n",
      "\t\t    \u001b[34;01m\"implementation\"\u001b[39;49;00m:\u001b[33m\"RANDOM_ABTEST\"\u001b[39;49;00m,\r\n",
      "\t\t    \u001b[34;01m\"parameters\"\u001b[39;49;00m: [\r\n",
      "\t\t\t{\r\n",
      "\t\t\t    \u001b[34;01m\"name\"\u001b[39;49;00m:\u001b[33m\"ratioA\"\u001b[39;49;00m,\r\n",
      "\t\t\t    \u001b[34;01m\"value\"\u001b[39;49;00m:\u001b[33m\"0.5\"\u001b[39;49;00m,\r\n",
      "\t\t\t    \u001b[34;01m\"type\"\u001b[39;49;00m:\u001b[33m\"FLOAT\"\u001b[39;49;00m\r\n",
      "\t\t\t}\r\n",
      "\t\t    ],\r\n",
      "\t\t    \u001b[34;01m\"children\"\u001b[39;49;00m: [\r\n",
      "\t\t\t{\r\n",
      "\t\t\t    \u001b[34;01m\"name\"\u001b[39;49;00m: \u001b[33m\"tf-model\"\u001b[39;49;00m,\r\n",
      "\t\t\t    \u001b[34;01m\"endpoint\"\u001b[39;49;00m:{\r\n",
      "\t\t\t\t\u001b[34;01m\"type\"\u001b[39;49;00m:\u001b[33m\"REST\"\u001b[39;49;00m\r\n",
      "\t\t\t    },\r\n",
      "\t\t\t    \u001b[34;01m\"type\"\u001b[39;49;00m:\u001b[33m\"MODEL\"\u001b[39;49;00m\r\n",
      "\t\t\t},\r\n",
      "\t\t\t{\r\n",
      "\t\t\t    \u001b[34;01m\"name\"\u001b[39;49;00m: \u001b[33m\"sk-model\"\u001b[39;49;00m,\r\n",
      "\t\t\t    \u001b[34;01m\"endpoint\"\u001b[39;49;00m:{\r\n",
      "\t\t\t\t\u001b[34;01m\"type\"\u001b[39;49;00m:\u001b[33m\"REST\"\u001b[39;49;00m\r\n",
      "\t\t\t    },\r\n",
      "\t\t\t    \u001b[34;01m\"type\"\u001b[39;49;00m:\u001b[33m\"MODEL\"\u001b[39;49;00m\r\n",
      "\t\t\t}   \r\n",
      "\t\t    ]\r\n",
      "\t\t}\r\n",
      "\t    }\r\n",
      "\t]\r\n",
      "    }\r\n",
      "}\r\n",
      "\t\t\r\n",
      "\t\t\r\n",
      "\r\n",
      " \r\n"
     ]
    }
   ],
   "source": [
    "!pygmentize ../k8s_serving/ab_test_sklearn_tensorflow.json"
   ]
  },
  {
   "cell_type": "code",
   "execution_count": 102,
   "metadata": {
    "collapsed": false
   },
   "outputs": [
    {
     "name": "stdout",
     "output_type": "stream",
     "text": [
      "seldondeployment \"mnist-classifier\" configured\r\n"
     ]
    }
   ],
   "source": [
    "!kubectl apply -f ../k8s_serving/ab_test_sklearn_tensorflow.json"
   ]
  },
  {
   "cell_type": "code",
   "execution_count": 142,
   "metadata": {
    "collapsed": false
   },
   "outputs": [
    {
     "data": {
      "image/png": "[encoded data removed]",
      "text/plain": [
       "<matplotlib.figure.Figure at 0x7f5615f0ac50>"
      ]
     },
     "metadata": {},
     "output_type": "display_data"
    },
    {
     "name": "stdout",
     "output_type": "stream",
     "text": [
      "200\n",
      "{\n",
      "  \"meta\": {\n",
      "    \"puid\": \"om71asfck5ienomge6tt9l1q0o\", \n",
      "    \"routing\": {\n",
      "      \"eg-router\": 0\n",
      "    }, \n",
      "    \"tags\": {}\n",
      "  }, \n",
      "  \"data\": {\n",
      "    \"names\": [\n",
      "      \"class:0\", \n",
      "      \"class:1\", \n",
      "      \"class:2\", \n",
      "      \"class:3\", \n",
      "      \"class:4\", \n",
      "      \"class:5\", \n",
      "      \"class:6\", \n",
      "      \"class:7\", \n",
      "      \"class:8\", \n",
      "      \"class:9\"\n",
      "    ], \n",
      "    \"ndarray\": [\n",
      "      [\n",
      "        5.2302086260169744e-05, \n",
      "        9.297637916461099e-06, \n",
      "        0.00032920282683335245, \n",
      "        0.0022387413773685694, \n",
      "        0.04793737083673477, \n",
      "        0.04773316532373428, \n",
      "        0.000469738501124084, \n",
      "        0.00014874122280161828, \n",
      "        0.04813534393906593, \n",
      "        0.8529459834098816\n",
      "      ]\n",
      "    ]\n",
      "  }\n",
      "}\n"
     ]
    }
   ],
   "source": [
    "batch_xs, batch_ys = mnist.train.next_batch(1)\n",
    "chosen=0\n",
    "gen_image(batch_xs[chosen]).show()\n",
    "data = batch_xs[chosen].reshape((1,784))\n",
    "request = {\"data\":{\"ndarray\":data.tolist()}}\n",
    "predictions = rest_request(\"mnist-classifier\",request)\n",
    "print(json.dumps(predictions, indent=2))"
   ]
  },
  {
   "cell_type": "markdown",
   "metadata": {},
   "source": [
    "## Multi-Armed Bandit\n",
    "Run a e-greey multi-armed bandit to push traffic to best performing model."
   ]
  },
  {
   "cell_type": "code",
   "execution_count": null,
   "metadata": {
    "collapsed": true
   },
   "outputs": [],
   "source": [
    "!kubectl apply -f ../k8s_serving/epsilon_greedy.json"
   ]
  },
  {
   "cell_type": "code",
   "execution_count": 158,
   "metadata": {
    "collapsed": false
   },
   "outputs": [
    {
     "name": "stdout",
     "output_type": "stream",
     "text": [
      "0/100\n",
      "10/100\n",
      "20/100\n",
      "30/100\n",
      "40/100\n",
      "50/100\n",
      "60/100\n",
      "70/100\n",
      "80/100\n",
      "90/100\n",
      "[42.0, 4.0]\n"
     ]
    },
    {
     "data": {
      "image/png": "[encoded data removed]",
      "text/plain": [
       "<matplotlib.figure.Figure at 0x7f5617ef7510>"
      ]
     },
     "metadata": {},
     "output_type": "display_data"
    }
   ],
   "source": [
    "score = [0.0,0.0]\n",
    "sz = 100\n",
    "batch_xs, batch_ys = mnist.train.next_batch(sz)\n",
    "routes_history = []\n",
    "for idx in range(sz):\n",
    "    if idx % 10 == 0:\n",
    "        print \"{}/{}\".format(idx,sz)\n",
    "    data = batch_xs[idx].reshape((1,784))\n",
    "    request = {\"data\":{\"ndarray\":data.tolist()}}\n",
    "    response = rest_request(\"mnist-classifier\",request)\n",
    "    route = response.get(\"meta\").get(\"routing\").get(\"eg-router\")\n",
    "    proba = response[\"data\"][\"ndarray\"][0]\n",
    "    predicted = proba.index(max(proba))\n",
    "    correct = np.argmax(batch_ys[idx])\n",
    "    if predicted == correct:\n",
    "        score[route] = score[route] + 1\n",
    "        send_feedback_rest(\"mnist-classifier\",request,response,reward=1)\n",
    "    else:\n",
    "        send_feedback_rest(\"mnist-classifier\",request,response,reward=0)\n",
    "    routes_history.append(route)\n",
    "\n",
    "plt.figure(figsize=(15,6))\n",
    "ax = plt.scatter(range(len(routes_history)),routes_history)\n",
    "ax.axes.xaxis.set_label_text(\"Incoming Requests over Time\")\n",
    "ax.axes.yaxis.set_label_text(\"Selected Branch\")\n",
    "plt.yticks([0,1,2])\n",
    "_ = plt.title(\"Branch Chosen for Incoming Requests\")\n",
    "print score"
   ]
  },
  {
   "cell_type": "code",
   "execution_count": null,
   "metadata": {
    "collapsed": true
   },
   "outputs": [],
   "source": []
  }
 ],
 "metadata": {
  "kernelspec": {
   "display_name": "Python 2",
   "language": "python",
   "name": "python2"
  },
  "language_info": {
   "codemirror_mode": {
    "name": "ipython",
    "version": 2
   },
   "file_extension": ".py",
   "mimetype": "text/x-python",
   "name": "python",
   "nbconvert_exporter": "python",
   "pygments_lexer": "ipython2",
   "version": "2.7.11"
  }
 },
 "nbformat": 4,
 "nbformat_minor": 1
}
